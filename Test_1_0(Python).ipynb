{
  "cells": [
    {
      "cell_type": "code",
      "execution_count": null,
      "id": "8019c971-b3c7-4de7-80b8-5f6429d76376",
      "metadata": {
        "id": "8019c971-b3c7-4de7-80b8-5f6429d76376"
      },
      "outputs": [],
      "source": [
        "# Jupyter Notebook for Python Basics Practice\n",
        "\n",
        "## Multiple-Choice Questions (MCQs)\n",
        "\n",
        "### Question 1\n",
        "# What is the output of the following code?\n",
        "# print(type(5.0))\n",
        "# a) int\n",
        "# b) float\n",
        "# c) str\n",
        "# d) list\n",
        "\n",
        "ANSWER: B)FLOAT\n",
        "\n",
        "### Question 2\n",
        "# What is the correct syntax to output \"Hello World\" in Python?\n",
        "# a) echo \"Hello World\"\n",
        "# b) print(\"Hello World\")\n",
        "# c) printf(\"Hello World\")\n",
        "# d) System.out.println(\"Hello World\")\n",
        "\n",
        "ANSWER: B)print(\"Hello World\")\n",
        "\n",
        "### Question 3\n",
        "# Which of the following is a correct variable declaration in Python?\n",
        "# a) var x = 10\n",
        "# b) int x = 10\n",
        "# c) x = 10\n",
        "# d) declare x = 10\n",
        "\n",
        "ANSWER: C)X=10\n",
        "\n",
        "### Question 4\n",
        "# What is the output of the following code?\n",
        "# print(2 ** 3)\n",
        "# a) 6\n",
        "# b) 8\n",
        "# c) 9\n",
        "# d) 12\n",
        "\n",
        "ANSWER: B)8\n",
        "\n",
        "### Question 5\n",
        "# Which of the following is used to define a block of code in Python?\n",
        "# a) Curly braces\n",
        "# b) Parentheses\n",
        "# c) Indentation\n",
        "# d) Quotation marks\n",
        "\n",
        "ANSWER: c) Indentation\n",
        "\n",
        "### Question 6\n",
        "# How do you start a comment in Python?\n",
        "# a) //\n",
        "# b) /*\n",
        "# c) <!--\n",
        "# d) #\n",
        "\n",
        "ANSWER: A)//\n",
        "\n",
        "### Question 7\n",
        "# What is the output of the following code?\n",
        "# print(\"Hello\" + \" \" + \"World\")\n",
        "# a) Hello World\n",
        "# b) HelloWorld\n",
        "# c) Hello+World\n",
        "# d) Error\n",
        "\n",
        "ANSWER: A)Hello World\n",
        "\n",
        "### Question 8\n",
        "# Which of the following is the correct way to create a list in Python?\n",
        "# a) list = [1, 2, 3]\n",
        "# b) list = (1, 2, 3)\n",
        "# c) list = {1, 2, 3}\n",
        "# d) list = 1, 2, 3\n",
        "\n",
        "ANSWER A) a=[1,2,3]\n",
        "\n",
        "### Question 9\n",
        "# What is the output of the following code?\n",
        "# a = [1, 2, 3]\n",
        "# print(len(a))\n",
        "# a) 2\n",
        "# b) 3\n",
        "# c) 4\n",
        "# d) Error\n",
        "\n",
        "ANSWER B)3\n",
        "\n",
        "### Question 10\n",
        "# Which of the following statements is true?\n",
        "# a) A tuple is mutable\n",
        "# b) A list is immutable\n",
        "# c) A tuple is immutable\n",
        "# d) A list is immutable and a tuple is mutable\n",
        "\n",
        "ANSWER C)A tuple is immutable\n",
        "\n",
        "### Question 11\n",
        "# What will be the output of the following code?\n",
        "# x = 10\n",
        "# if x > 5:\n",
        "#     print(\"Greater\")\n",
        "# else:\n",
        "#     print(\"Smaller\")\n",
        "# a) Greater\n",
        "# b) Smaller\n",
        "# c) Error\n",
        "# d) None of the above\n",
        "\n",
        "ANSWER A)Greater\n",
        "\n",
        "### Question 12\n",
        "# How do you create a dictionary in Python?\n",
        "# a) dict = [1, 2, 3]\n",
        "# b) dict = {1, 2, 3}\n",
        "# c) dict = {\"one\": 1, \"two\": 2, \"three\": 3}\n",
        "# d) dict = (1, 2, 3)\n",
        "\n",
        "ANSWER C)dict = {\"one\": 1, \"two\": 2, \"three\": 3}\n",
        "\n",
        "### Question 13\n",
        "# What is the output of the following code?\n",
        "# x = [1, 2, 3, 4]\n",
        "# print(x[1:3])\n",
        "# a) [1, 2]\n",
        "# b) [2, 3]\n",
        "# c) [3, 4]\n",
        "# d) [2, 3, 4]\n",
        "\n",
        "ANSWER C)[2,3]\n",
        "\n",
        "### Question 14\n",
        "# Which of the following methods can be used to add an element to a list?\n",
        "# a) append()\n",
        "# b) add()\n",
        "# c) insert()\n",
        "# d) extend()\n",
        "\n",
        "ANSWER a)append()\n",
        "\n",
        "### Question 15\n",
        "# What is the correct way to handle exceptions in Python?\n",
        "# a) try-except\n",
        "# b) try-catch\n",
        "# c) do-except\n",
        "# d) do-catch\n",
        "\n",
        "ANSWER a)try-except\n",
        "\n",
        "---\n",
        "\n",
        "## Practice Questions\n",
        "\n",
        "### Question 1\n",
        "# Write a Python program to check if a number is even or odd.\n",
        "\n",
        "number = int(input(\"Enter a number: \"))\n",
        "if number % 2 == 0:\n",
        "    print(f\"{number} is even.\")\n",
        "else:\n",
        "    print(f\"{number} is odd.\")\n",
        "\n",
        "### Question 2\n",
        "# Write a Python program to find the factorial of a given number using a loop.\n",
        "\n",
        "def factorial(n):\n",
        "    result = 1\n",
        "    for i in range(1, n + 1):\n",
        "        result *= i\n",
        "    return result\n",
        "\n",
        "number = int(input(\"Enter a number: \"))\n",
        "print(f\"Factorial of {number} is {factorial(number)}.\")\n",
        "\n",
        "### Question 3\n",
        "# Write a Python program to create a list of the first 10 natural numbers and then print each number.\n",
        "\n",
        "natural_numbers = list(range(1, 11))\n",
        "for number in natural_numbers:\n",
        "    print(number)\n",
        "\n",
        "### Question 4\n",
        "# Write a Python program to calculate the sum of all numbers in a list.\n",
        "\n",
        "numbers = [1, 2, 3, 4, 5]\n",
        "print(f\"Sum of the list is {sum(numbers)}.\")\n",
        "\n",
        "### Question 5\n",
        "# Write a Python program to reverse a string.\n",
        "\n",
        "string = input(\"Enter a string: \")\n",
        "reversed_string = string[::-1]\n",
        "print(f\"Reversed string is: {reversed_string}\")\n",
        "\n",
        "### Question 6\n",
        "# Write a Python program to find the largest number in a list.\n",
        "\n",
        "numbers = [1, 2, 3, 4, 5]\n",
        "print(f\"Largest number in the list is {max(numbers)}.\")\n",
        "\n",
        "### Question 7\n",
        "# Write a Python program to print the multiplication table of any number provided by the user.\n",
        "\n",
        "number = int(input(\"Enter a number: \"))\n",
        "for i in range(1, 11):\n",
        "    print(f\"{number} x {i} = {number * i}\")\n",
        "\n",
        "### Question 8\n",
        "# Write a Python program to count the number of vowels in a string.\n",
        "\n",
        "vowels = \"aeiouAEIOU\"\n",
        "string = input(\"Enter a string: \")\n",
        "count = sum(1 for char in string if char in vowels)\n",
        "print(f\"Number of vowels in the string is: {count}\")\n",
        "\n",
        "### Question 9\n",
        "# Write a Python program to convert a list of tuples into a dictionary.\n",
        "\n",
        "tuples = [(\"one\", 1), (\"two\", 2), (\"three\", 3)]\n",
        "dictionary = dict(tuples)\n",
        "print(f\"Converted dictionary: {dictionary}\")\n",
        "\n",
        "### Question 10\n",
        "# Write a Python program to check if a given string is a palindrome.\n",
        "\n",
        "string = input(\"Enter a string: \")\n",
        "is_palindrome = string == string[::-1]\n",
        "print(f\"The string is a palindrome: {is_palindrome}\")\n"
      ]
    },
    {
      "cell_type": "markdown",
      "source": [
        "pratical question"
      ],
      "metadata": {
        "id": "LwDTy6RsQvor"
      },
      "id": "LwDTy6RsQvor"
    },
    {
      "cell_type": "code",
      "execution_count": 3,
      "id": "e40a96f9-72e1-437d-8e2b-b9360040a277",
      "metadata": {
        "colab": {
          "base_uri": "https://localhost:8080/"
        },
        "id": "e40a96f9-72e1-437d-8e2b-b9360040a277",
        "outputId": "45225366-ea0c-4fca-a4ce-ede651f8e14e"
      },
      "outputs": [
        {
          "output_type": "stream",
          "name": "stdout",
          "text": [
            "Enter a number: 10\n",
            "even\n"
          ]
        }
      ],
      "source": [
        "n = int(input(\"Enter a number: \"))\n",
        "if n % 2 == 0:\n",
        "    print(\"even\")\n",
        "else:\n",
        "    print(\"odd\")"
      ]
    },
    {
      "cell_type": "code",
      "execution_count": 5,
      "id": "cb93b572-fc58-45f3-b16c-c25194a6ee5f",
      "metadata": {
        "colab": {
          "base_uri": "https://localhost:8080/"
        },
        "id": "cb93b572-fc58-45f3-b16c-c25194a6ee5f",
        "outputId": "b6f5b1c0-3e2d-404a-86af-e5077248d814"
      },
      "outputs": [
        {
          "output_type": "stream",
          "name": "stdout",
          "text": [
            "Enter a number: 3\n",
            "1\n",
            "2\n",
            "6\n",
            "The factorial of 3 is 6\n"
          ]
        }
      ],
      "source": [
        "num = int(input(\"Enter a number: \"))\n",
        "\n",
        "factorial = 1\n",
        "for i in range(1, num + 1):\n",
        "    factorial *= i\n",
        "    print(factorial)\n",
        "\n",
        "print(f\"The factorial of {num} is {factorial}\")"
      ]
    },
    {
      "cell_type": "code",
      "source": [
        "# Create a list of the first 10 natural numbers\n",
        "numbers = list(range(1, 11))\n",
        "\n",
        "# Print each number in the list\n",
        "for num in numbers:\n",
        "    print(num)"
      ],
      "metadata": {
        "colab": {
          "base_uri": "https://localhost:8080/"
        },
        "id": "HvgSx1k9S1Dx",
        "outputId": "dfb39f8b-f623-433b-909a-43430da0ff68"
      },
      "id": "HvgSx1k9S1Dx",
      "execution_count": 7,
      "outputs": [
        {
          "output_type": "stream",
          "name": "stdout",
          "text": [
            "1\n",
            "2\n",
            "3\n",
            "4\n",
            "5\n",
            "6\n",
            "7\n",
            "8\n",
            "9\n",
            "10\n"
          ]
        }
      ]
    },
    {
      "cell_type": "code",
      "execution_count": 6,
      "id": "f5e00f97-195e-42c5-aee3-8e7d5e430cc9",
      "metadata": {
        "colab": {
          "base_uri": "https://localhost:8080/"
        },
        "id": "f5e00f97-195e-42c5-aee3-8e7d5e430cc9",
        "outputId": "a2a43211-47a3-44c1-90da-537c077e4ffa"
      },
      "outputs": [
        {
          "output_type": "stream",
          "name": "stdout",
          "text": [
            "Sum of the list is 15.\n"
          ]
        }
      ],
      "source": [
        "numbers = [1, 2, 3, 4, 5]\n",
        "print(f\"Sum of the list is {sum(numbers)}.\")"
      ]
    },
    {
      "cell_type": "code",
      "execution_count": 8,
      "id": "4329d690-7d0c-432a-a9b8-fafa218c7526",
      "metadata": {
        "colab": {
          "base_uri": "https://localhost:8080/"
        },
        "id": "4329d690-7d0c-432a-a9b8-fafa218c7526",
        "outputId": "be7f12e8-5699-4dde-fc21-ee3da2527271"
      },
      "outputs": [
        {
          "output_type": "stream",
          "name": "stdout",
          "text": [
            "Enter a string: Sudharsan\n",
            "Reversed string is: nasrahduS\n"
          ]
        }
      ],
      "source": [
        "string = input(\"Enter a string: \")\n",
        "reversed_string = string[::-1]\n",
        "print(f\"Reversed string is: {reversed_string}\")\n"
      ]
    },
    {
      "cell_type": "code",
      "execution_count": 9,
      "id": "8d4325f9-d3d3-485e-8468-460ca97740d4",
      "metadata": {
        "colab": {
          "base_uri": "https://localhost:8080/"
        },
        "id": "8d4325f9-d3d3-485e-8468-460ca97740d4",
        "outputId": "8687cb89-3432-4b29-c84f-107b7a1c014b"
      },
      "outputs": [
        {
          "output_type": "stream",
          "name": "stdout",
          "text": [
            "5\n"
          ]
        }
      ],
      "source": [
        "n = [1, 2, 3, 4, 5]\n",
        "print(max(n))"
      ]
    },
    {
      "cell_type": "code",
      "execution_count": 11,
      "id": "660fe550-6961-4fb4-a22d-19fcdb1a5fa1",
      "metadata": {
        "colab": {
          "base_uri": "https://localhost:8080/"
        },
        "id": "660fe550-6961-4fb4-a22d-19fcdb1a5fa1",
        "outputId": "85878b5e-d45d-4c21-aa31-d59b28656a4b"
      },
      "outputs": [
        {
          "output_type": "stream",
          "name": "stdout",
          "text": [
            "Enter a number: 9\n",
            "9 x 1 = 9\n",
            "9 x 2 = 18\n",
            "9 x 3 = 27\n",
            "9 x 4 = 36\n",
            "9 x 5 = 45\n",
            "9 x 6 = 54\n",
            "9 x 7 = 63\n",
            "9 x 8 = 72\n",
            "9 x 9 = 81\n",
            "9 x 10 = 90\n"
          ]
        }
      ],
      "source": [
        "number = int(input(\"Enter a number: \"))\n",
        "for i in range(1, 11):\n",
        "    print(f\"{number} x {i} = {number * i}\")"
      ]
    },
    {
      "cell_type": "code",
      "source": [
        "vowels = \"aeiouAEIOU\"\n",
        "string = input(\"Enter a string: \")\n",
        "count = sum(1 for char in string if char in vowels)\n",
        "print(f\"Number of vowels in the string is: {count}\")"
      ],
      "metadata": {
        "colab": {
          "base_uri": "https://localhost:8080/"
        },
        "id": "69nZryeTT5kH",
        "outputId": "50843425-5a2f-4ab7-88ab-c092d2fef679"
      },
      "id": "69nZryeTT5kH",
      "execution_count": 12,
      "outputs": [
        {
          "output_type": "stream",
          "name": "stdout",
          "text": [
            "Enter a string: sudharsan\n",
            "Number of vowels in the string is: 3\n"
          ]
        }
      ]
    },
    {
      "cell_type": "code",
      "source": [
        "list = [('apple', 3), ('banana', 2), ('cherry', 5)]\n",
        "my_dict = dict(list)\n",
        "print(my_dict)"
      ],
      "metadata": {
        "colab": {
          "base_uri": "https://localhost:8080/"
        },
        "id": "GdAHcdXAT5cj",
        "outputId": "31828ea7-a5b9-4897-bc53-9c7e620990f2"
      },
      "id": "GdAHcdXAT5cj",
      "execution_count": 14,
      "outputs": [
        {
          "output_type": "stream",
          "name": "stdout",
          "text": [
            "{'apple': 3, 'banana': 2, 'cherry': 5}\n"
          ]
        }
      ]
    },
    {
      "cell_type": "code",
      "source": [
        "string = input(\"Enter a string: \")\n",
        "is_palindrome = string == string[::-1]\n",
        "print(f\"The string is a palindrome: {is_palindrome}\")"
      ],
      "metadata": {
        "colab": {
          "base_uri": "https://localhost:8080/"
        },
        "id": "le8NyImIUwRl",
        "outputId": "584b7de0-8ae4-4c20-c377-751d2fa3cb9e"
      },
      "id": "le8NyImIUwRl",
      "execution_count": 18,
      "outputs": [
        {
          "output_type": "stream",
          "name": "stdout",
          "text": [
            "Enter a string: malayalam\n",
            "The string is a palindrome: True\n"
          ]
        }
      ]
    }
  ],
  "metadata": {
    "kernelspec": {
      "display_name": "Python 3 (ipykernel)",
      "language": "python",
      "name": "python3"
    },
    "language_info": {
      "codemirror_mode": {
        "name": "ipython",
        "version": 3
      },
      "file_extension": ".py",
      "mimetype": "text/x-python",
      "name": "python",
      "nbconvert_exporter": "python",
      "pygments_lexer": "ipython3",
      "version": "3.10.12"
    },
    "colab": {
      "provenance": []
    }
  },
  "nbformat": 4,
  "nbformat_minor": 5
}