{
  "nbformat": 4,
  "nbformat_minor": 0,
  "metadata": {
    "colab": {
      "provenance": []
    },
    "kernelspec": {
      "name": "python3",
      "display_name": "Python 3"
    },
    "language_info": {
      "name": "python"
    }
  },
  "cells": [
    {
      "cell_type": "markdown",
      "source": [
        "Q1)Write a Python program to print 'Hello, World!'.\n"
      ],
      "metadata": {
        "id": "umnF3JyxIghG"
      }
    },
    {
      "cell_type": "code",
      "execution_count": 2,
      "metadata": {
        "colab": {
          "base_uri": "https://localhost:8080/"
        },
        "id": "i6r3lC3pId8g",
        "outputId": "ff73d959-d0b0-4c2e-cee3-797a9ae98557"
      },
      "outputs": [
        {
          "output_type": "stream",
          "name": "stdout",
          "text": [
            "'Hello, World!'\n"
          ]
        }
      ],
      "source": [
        "print(\"'Hello, World!'\")"
      ]
    },
    {
      "cell_type": "markdown",
      "source": [
        "2) Write a Python program to add two numbers"
      ],
      "metadata": {
        "id": "EZcG6N2TJwcD"
      }
    },
    {
      "cell_type": "code",
      "source": [
        "a=10\n",
        "b=20\n",
        "c=a+b\n",
        "print(c)"
      ],
      "metadata": {
        "colab": {
          "base_uri": "https://localhost:8080/"
        },
        "id": "P8JDzx_HJMOa",
        "outputId": "c218509b-07e0-4858-aafa-4a1c4ca8e7a9"
      },
      "execution_count": 5,
      "outputs": [
        {
          "output_type": "stream",
          "name": "stdout",
          "text": [
            "30\n"
          ]
        }
      ]
    },
    {
      "cell_type": "markdown",
      "source": [
        " 3)Write a Python program to find the square root of a number."
      ],
      "metadata": {
        "id": "X-JQNjYvJqfw"
      }
    },
    {
      "cell_type": "code",
      "source": [
        "import math\n",
        "a = 16\n",
        "print(math.sqrt(a))"
      ],
      "metadata": {
        "colab": {
          "base_uri": "https://localhost:8080/"
        },
        "id": "2cY3ynpTJs9M",
        "outputId": "3b2a29df-9694-4878-98f5-f4bba2f27065"
      },
      "execution_count": 7,
      "outputs": [
        {
          "output_type": "stream",
          "name": "stdout",
          "text": [
            "4.0\n"
          ]
        }
      ]
    },
    {
      "cell_type": "markdown",
      "source": [
        "4.Write a Python program to calculate the area of a triangle."
      ],
      "metadata": {
        "id": "MXWBfTVVMqyd"
      }
    },
    {
      "cell_type": "code",
      "source": [
        "b = 4\n",
        "h = 6\n",
        "area = 0.5*b*h\n",
        "print(area)"
      ],
      "metadata": {
        "colab": {
          "base_uri": "https://localhost:8080/"
        },
        "id": "X98UqB1HRZis",
        "outputId": "1fcb9b6a-baac-4035-ccbe-0c0f2a1a2763"
      },
      "execution_count": 11,
      "outputs": [
        {
          "output_type": "stream",
          "name": "stdout",
          "text": [
            "12.0\n"
          ]
        }
      ]
    },
    {
      "cell_type": "markdown",
      "source": [
        "5. Write a Python program to swap two variables."
      ],
      "metadata": {
        "id": "Qdvu3rgfSBMz"
      }
    },
    {
      "cell_type": "code",
      "source": [
        "def swap(a, b):\n",
        "    return b, a\n",
        "\n",
        "a = 3\n",
        "b = 5\n",
        "a, b = swap(a, b)\n",
        "print(a,b)\n",
        "\n"
      ],
      "metadata": {
        "colab": {
          "base_uri": "https://localhost:8080/"
        },
        "id": "HLSvIfUlVFF1",
        "outputId": "a6e7150e-7dd6-48b9-c4a3-228b1b69bc28"
      },
      "execution_count": 19,
      "outputs": [
        {
          "output_type": "stream",
          "name": "stdout",
          "text": [
            "5 3\n"
          ]
        }
      ]
    },
    {
      "cell_type": "markdown",
      "source": [
        "6. Write a Python program to generate a random number."
      ],
      "metadata": {
        "id": "Jgi-4Ph5WT6B"
      }
    },
    {
      "cell_type": "code",
      "source": [
        "import random\n",
        "\n",
        "random_number = random.randint(1, 50)\n",
        "print(random_number)\n"
      ],
      "metadata": {
        "colab": {
          "base_uri": "https://localhost:8080/"
        },
        "id": "XnuRYJjaWWXs",
        "outputId": "9712189e-6315-4a5a-d12b-4e429c629e58"
      },
      "execution_count": 21,
      "outputs": [
        {
          "output_type": "stream",
          "name": "stdout",
          "text": [
            "29\n"
          ]
        }
      ]
    },
    {
      "cell_type": "markdown",
      "source": [
        "7. Write a Python program to convert kilometers to miles."
      ],
      "metadata": {
        "id": "X3B16IKeWhR-"
      }
    },
    {
      "cell_type": "code",
      "source": [
        "km = float(input(\"Enter kilometers: \"))\n",
        "miles = km * 0.62137\n",
        "print(miles)"
      ],
      "metadata": {
        "colab": {
          "base_uri": "https://localhost:8080/"
        },
        "id": "RsQjpb5CWj30",
        "outputId": "3972ea36-b243-4af6-c401-04cc7edf4fc0"
      },
      "execution_count": 25,
      "outputs": [
        {
          "output_type": "stream",
          "name": "stdout",
          "text": [
            "Enter kilometers: 3\n",
            "1.86411\n"
          ]
        }
      ]
    },
    {
      "cell_type": "markdown",
      "source": [
        "8. Write a Python program to check if a number is positive, negative or zero."
      ],
      "metadata": {
        "id": "Z6vdqqG2Xce_"
      }
    },
    {
      "cell_type": "code",
      "source": [
        "number =int(input(\"Enter a number: \"))\n",
        "if number > 0:\n",
        "    print(\"positive\")\n",
        "elif number < 0:\n",
        "    print(\"negative\")\n",
        "else:\n",
        "    print(\"zero\")"
      ],
      "metadata": {
        "colab": {
          "base_uri": "https://localhost:8080/"
        },
        "id": "NAhOINNeXe63",
        "outputId": "b621e52a-de8e-4f00-cbae-797ac8224df3"
      },
      "execution_count": 26,
      "outputs": [
        {
          "output_type": "stream",
          "name": "stdout",
          "text": [
            "Enter a number: 5\n",
            "positive\n"
          ]
        }
      ]
    },
    {
      "cell_type": "markdown",
      "source": [
        "9. Write a Python program to check if a number is odd or even.\n"
      ],
      "metadata": {
        "id": "MBQMrtOeX7ks"
      }
    },
    {
      "cell_type": "code",
      "source": [
        "n=int(input(\"Enter a number: \"))\n",
        "if n%2==0:\n",
        "    print(\"even\")\n",
        "else:\n",
        "    print(\"odd\")"
      ],
      "metadata": {
        "colab": {
          "base_uri": "https://localhost:8080/"
        },
        "id": "teAvbHRuX93M",
        "outputId": "b7e59877-1926-433c-85c1-102c1d57084f"
      },
      "execution_count": 27,
      "outputs": [
        {
          "output_type": "stream",
          "name": "stdout",
          "text": [
            "Enter a number: 7\n",
            "odd\n"
          ]
        }
      ]
    },
    {
      "cell_type": "markdown",
      "source": [
        "10. Write a Python program to check if a year is a leap year.\n"
      ],
      "metadata": {
        "id": "9ebJYztHYHmt"
      }
    },
    {
      "cell_type": "code",
      "source": [
        "n=int(input(\"Enter a year: \"))\n",
        "if n%4==0:\n",
        "    print(\"leap year\")\n",
        "else:\n",
        "    print(\"not leap year\")"
      ],
      "metadata": {
        "colab": {
          "base_uri": "https://localhost:8080/"
        },
        "id": "vFLr9mCbYJlL",
        "outputId": "1838d3e8-3282-4e54-bed5-960f78257b9a"
      },
      "execution_count": 29,
      "outputs": [
        {
          "output_type": "stream",
          "name": "stdout",
          "text": [
            "Enter a year: 2020\n",
            "leap year\n"
          ]
        }
      ]
    },
    {
      "cell_type": "markdown",
      "source": [
        "11. Write a Python program to find the largest of three numbers."
      ],
      "metadata": {
        "id": "36f34zkKYS-a"
      }
    },
    {
      "cell_type": "code",
      "source": [
        "a = int(input(\"Enter first number: \"))\n",
        "b = int(input(\"Enter second number: \"))\n",
        "c = int(input(\"Enter third number: \"))\n",
        "largest = max(a,b,c)\n",
        "print(\"The largest number is\", largest)"
      ],
      "metadata": {
        "colab": {
          "base_uri": "https://localhost:8080/"
        },
        "id": "mD5IA52DYWxg",
        "outputId": "35c60e2d-eeda-4677-efbe-2f474a8f334e"
      },
      "execution_count": 31,
      "outputs": [
        {
          "output_type": "stream",
          "name": "stdout",
          "text": [
            "Enter first number: 56\n",
            "Enter second number: 76\n",
            "Enter third number: 14\n",
            "The largest number is 76\n"
          ]
        }
      ]
    },
    {
      "cell_type": "markdown",
      "source": [
        "12. Write a Python program to find the factorial of a number"
      ],
      "metadata": {
        "id": "U_4RJ1eFZCjJ"
      }
    },
    {
      "cell_type": "code",
      "source": [
        "n=int(input(\"Enter a number: \"))\n",
        "fact=1\n",
        "for i in range(1,n+1):\n",
        "    fact=fact*i\n",
        "print(fact)"
      ],
      "metadata": {
        "colab": {
          "base_uri": "https://localhost:8080/"
        },
        "id": "-P_GRBbYZD2t",
        "outputId": "d03d4cc4-f3d4-4e17-b47d-c05355f40b67"
      },
      "execution_count": 36,
      "outputs": [
        {
          "output_type": "stream",
          "name": "stdout",
          "text": [
            "Enter a number: 7\n",
            "5040\n"
          ]
        }
      ]
    },
    {
      "cell_type": "markdown",
      "source": [
        "13. Write a Python program to display the multiplication table."
      ],
      "metadata": {
        "id": "q56uR0YUZfmz"
      }
    },
    {
      "cell_type": "code",
      "source": [
        "n=int(input(\"Enter a number: \"))\n",
        "for i in range(1,11):\n",
        "    print(n,\"x\",i,\"=\",n*i)"
      ],
      "metadata": {
        "colab": {
          "base_uri": "https://localhost:8080/"
        },
        "id": "tGCyJQqhZvpq",
        "outputId": "47d35f5f-a983-4042-f664-2eabb79fc20d"
      },
      "execution_count": 38,
      "outputs": [
        {
          "output_type": "stream",
          "name": "stdout",
          "text": [
            "Enter a number: 7\n",
            "7 x 1 = 7\n",
            "7 x 2 = 14\n",
            "7 x 3 = 21\n",
            "7 x 4 = 28\n",
            "7 x 5 = 35\n",
            "7 x 6 = 42\n",
            "7 x 7 = 49\n",
            "7 x 8 = 56\n",
            "7 x 9 = 63\n",
            "7 x 10 = 70\n"
          ]
        }
      ]
    },
    {
      "cell_type": "markdown",
      "source": [
        "14. Write a Python program to print the Fibonacci sequence."
      ],
      "metadata": {
        "id": "tb55m6QeaS-7"
      }
    },
    {
      "cell_type": "code",
      "source": [
        "n=int(input(\"Enter a number: \"))\n",
        "a=0\n",
        "b=1\n",
        "print(a)\n",
        "print(b)\n",
        "for i in range(2,n):\n",
        "    c=a+b\n",
        "    print(c)\n",
        "    a=b\n",
        "    b=c"
      ],
      "metadata": {
        "colab": {
          "base_uri": "https://localhost:8080/"
        },
        "id": "pCRMvnrRaVvC",
        "outputId": "29d09c79-d8ae-4b52-f990-6222abe81236"
      },
      "execution_count": 39,
      "outputs": [
        {
          "output_type": "stream",
          "name": "stdout",
          "text": [
            "Enter a number: 5\n",
            "0\n",
            "1\n",
            "1\n",
            "2\n",
            "3\n"
          ]
        }
      ]
    },
    {
      "cell_type": "markdown",
      "source": [
        "15. Write a Python program to check if a number is an Armstrong number."
      ],
      "metadata": {
        "id": "IJMDH29Kc6vU"
      }
    },
    {
      "cell_type": "code",
      "source": [
        "n=int(input(\"Enter a number: \"))\n",
        "sum=0\n",
        "temp=n\n",
        "while temp>0:\n",
        "    digit=temp%10\n",
        "    sum+=digit**3\n",
        "    temp//=10\n",
        "if sum == n:\n",
        "    print(\"Armstrong\")\n",
        "else:\n",
        "    print(\"Not Armstrong\")"
      ],
      "metadata": {
        "colab": {
          "base_uri": "https://localhost:8080/"
        },
        "id": "vEt5bKEwc9oo",
        "outputId": "4b99e0fd-0ce8-445b-c255-db23dcc39364"
      },
      "execution_count": 44,
      "outputs": [
        {
          "output_type": "stream",
          "name": "stdout",
          "text": [
            "Enter a number: 47\n",
            "Not Armstrong\n"
          ]
        }
      ]
    },
    {
      "cell_type": "markdown",
      "source": [
        "16. Write a Python program to find the sum of natural numbers"
      ],
      "metadata": {
        "id": "LkeD77M_eVNb"
      }
    },
    {
      "cell_type": "code",
      "source": [
        "n=int(input(\"Enter a number: \"))\n",
        "sum = n * (n + 1) // 2\n",
        "print(sum)"
      ],
      "metadata": {
        "colab": {
          "base_uri": "https://localhost:8080/"
        },
        "id": "-RkvHHO8eX_6",
        "outputId": "557dc2b3-6cee-43af-c552-2de3f29e4536"
      },
      "execution_count": 47,
      "outputs": [
        {
          "output_type": "stream",
          "name": "stdout",
          "text": [
            "Enter a number: 5\n",
            "15\n"
          ]
        }
      ]
    },
    {
      "cell_type": "markdown",
      "source": [
        "17. Write a Python program to find the sum of digits of a number."
      ],
      "metadata": {
        "id": "E1daSbrWfEq9"
      }
    },
    {
      "cell_type": "code",
      "source": [
        "n=int(input(\"Enter a number: \"))\n",
        "sum=0\n",
        "while n>0:\n",
        "    digit=n%10\n",
        "    sum+=digit\n",
        "    n//=10\n",
        "print(sum)"
      ],
      "metadata": {
        "colab": {
          "base_uri": "https://localhost:8080/"
        },
        "id": "h0LoAtedfFd1",
        "outputId": "da8c0d8e-7144-4094-c097-745ae31c7100"
      },
      "execution_count": 51,
      "outputs": [
        {
          "output_type": "stream",
          "name": "stdout",
          "text": [
            "Enter a number: 67\n",
            "13\n"
          ]
        }
      ]
    },
    {
      "cell_type": "markdown",
      "source": [
        "18. Write a Python program to reverse a number."
      ],
      "metadata": {
        "id": "KQOF_FT4fyts"
      }
    },
    {
      "cell_type": "code",
      "source": [
        "n = input(\"Enter a number: \")\n",
        "rev = \"\".join(reversed(n))\n",
        "print(rev)"
      ],
      "metadata": {
        "colab": {
          "base_uri": "https://localhost:8080/"
        },
        "id": "3Qt8Zrcff1xG",
        "outputId": "5a12d023-d052-454f-8693-6217df1ee23b"
      },
      "execution_count": 52,
      "outputs": [
        {
          "output_type": "stream",
          "name": "stdout",
          "text": [
            "Enter a number: 12345\n",
            "54321\n"
          ]
        }
      ]
    },
    {
      "cell_type": "markdown",
      "source": [
        "19. Write a Python program to convert decimal to binary, octal and hexadecimal."
      ],
      "metadata": {
        "id": "eQLIkR8rglJa"
      }
    },
    {
      "cell_type": "code",
      "source": [
        "n = int(input(\"Enter a number: \"))\n",
        "print(\"Binary:\", bin(n))\n",
        "print(\"Octal:\", oct(n))\n",
        "print(\"Hexadecimal:\", hex(n))"
      ],
      "metadata": {
        "colab": {
          "base_uri": "https://localhost:8080/"
        },
        "id": "Xpu6ipLEgnSR",
        "outputId": "79cb7511-10ba-41ca-9b6b-fa5663d41aa6"
      },
      "execution_count": 53,
      "outputs": [
        {
          "output_type": "stream",
          "name": "stdout",
          "text": [
            "Enter a number: 50\n",
            "Binary: 0b110010\n",
            "Octal: 0o62\n",
            "Hexadecimal: 0x32\n"
          ]
        }
      ]
    },
    {
      "cell_type": "markdown",
      "source": [
        "20. Write a Python program to find HCF or GCD of two numbers.\n"
      ],
      "metadata": {
        "id": "LRawXG5VhAcf"
      }
    },
    {
      "cell_type": "code",
      "source": [
        "import math\n",
        "\n",
        "a = int(input(\"Enter the first number: \"))\n",
        "b = int(input(\"Enter the second number: \"))\n",
        "\n",
        "hcf = math.gcd(a, b)\n",
        "print(hcf)\n"
      ],
      "metadata": {
        "colab": {
          "base_uri": "https://localhost:8080/"
        },
        "id": "bM7uT5kyhCZd",
        "outputId": "e3e29dd3-25ed-43aa-f97e-1cb1f7f1adc2"
      },
      "execution_count": 62,
      "outputs": [
        {
          "output_type": "stream",
          "name": "stdout",
          "text": [
            "Enter the first number: 30\n",
            "Enter the second number: 58\n",
            "2\n"
          ]
        }
      ]
    },
    {
      "cell_type": "markdown",
      "source": [
        "21. Write a Python program to find LCM of two numbers.\n"
      ],
      "metadata": {
        "id": "u3R1XDRKigz2"
      }
    },
    {
      "cell_type": "code",
      "source": [
        "n1 = int(input(\"Enter the first number: \"))\n",
        "n2 = int(input(\"Enter the second number: \"))\n",
        "\n",
        "lcm = (n1 * n2) // math.gcd(n1, n2)\n",
        "print(lcm)"
      ],
      "metadata": {
        "colab": {
          "base_uri": "https://localhost:8080/"
        },
        "id": "BzK7aud2ii0D",
        "outputId": "2a6b64b4-1634-4967-eaeb-9663260781b3"
      },
      "execution_count": 63,
      "outputs": [
        {
          "output_type": "stream",
          "name": "stdout",
          "text": [
            "Enter the first number: 25\n",
            "Enter the second number: 60\n",
            "300\n"
          ]
        }
      ]
    },
    {
      "cell_type": "markdown",
      "source": [
        "22. Write a Python program to count the number of each vowel in a string."
      ],
      "metadata": {
        "id": "3HxFsj7EjBw9"
      }
    },
    {
      "cell_type": "code",
      "source": [
        "n=input(\"Enter a string: \")\n",
        "vowels = \"aeiou\"\n",
        "count = {}\n",
        "for char in vowels:\n",
        "    count[char] = n.count(char)\n",
        "print(count)"
      ],
      "metadata": {
        "colab": {
          "base_uri": "https://localhost:8080/"
        },
        "id": "j8ntOlS7jEmq",
        "outputId": "a874c09b-9499-4eba-8445-65c9c0b89792"
      },
      "execution_count": 65,
      "outputs": [
        {
          "output_type": "stream",
          "name": "stdout",
          "text": [
            "Enter a string: sudharsan\n",
            "{'a': 2, 'e': 0, 'i': 0, 'o': 0, 'u': 1}\n"
          ]
        }
      ]
    },
    {
      "cell_type": "markdown",
      "source": [
        "23. Write a Python program to remove punctuation from a string."
      ],
      "metadata": {
        "id": "yiLIbFkxkJm4"
      }
    },
    {
      "cell_type": "code",
      "source": [
        "n=input(\"Enter a string: \")\n",
        "punctuations = '''!()-[]{};:'\"\\,<>./?@#$%^&*_~'''\n",
        "for char in n:\n",
        "    if char in punctuations:\n",
        "        n = n.replace(char, \"\")\n",
        "print(n)"
      ],
      "metadata": {
        "colab": {
          "base_uri": "https://localhost:8080/"
        },
        "id": "Plqa3jTIkMBa",
        "outputId": "485522cf-c4cb-4465-a314-87b2fbca707a"
      },
      "execution_count": 70,
      "outputs": [
        {
          "output_type": "stream",
          "name": "stdout",
          "text": [
            "Enter a string: Hello,world!\"\"\n",
            "Helloworld\n"
          ]
        }
      ]
    },
    {
      "cell_type": "markdown",
      "source": [
        "24. Write a Python program to sort a list of numbers in ascending order."
      ],
      "metadata": {
        "id": "1nhctbHzlKAm"
      }
    },
    {
      "cell_type": "code",
      "source": [
        "numbers = [5, 2, 8, 1, 9]\n",
        "numbers.sort()\n",
        "print(\"Sorted list:\", numbers)"
      ],
      "metadata": {
        "colab": {
          "base_uri": "https://localhost:8080/"
        },
        "id": "HxxnJT2GlMic",
        "outputId": "6dbbc160-f40c-4094-d9a7-6fd2aa021a16"
      },
      "execution_count": 71,
      "outputs": [
        {
          "output_type": "stream",
          "name": "stdout",
          "text": [
            "Sorted list: [1, 2, 5, 8, 9]\n"
          ]
        }
      ]
    },
    {
      "cell_type": "markdown",
      "source": [
        "25. Write a Python program to merge two lists and sort it."
      ],
      "metadata": {
        "id": "nFFeykPQla2k"
      }
    },
    {
      "cell_type": "code",
      "source": [
        "n1 = [1, 3, 5, 7, 9]\n",
        "n2 = [2, 4, 6, 8, 10]\n",
        "merged = n1 + n2\n",
        "merged.sort()\n",
        "print(\"Merged and sorted list:\", merged)"
      ],
      "metadata": {
        "colab": {
          "base_uri": "https://localhost:8080/"
        },
        "id": "Wn_W23brle0S",
        "outputId": "27237155-0729-40da-dd4d-5686dbddd3aa"
      },
      "execution_count": 72,
      "outputs": [
        {
          "output_type": "stream",
          "name": "stdout",
          "text": [
            "Merged and sorted list: [1, 2, 3, 4, 5, 6, 7, 8, 9, 10]\n"
          ]
        }
      ]
    }
  ]
}