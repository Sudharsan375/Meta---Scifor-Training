{
  "cells": [
    {
      "cell_type": "markdown",
      "id": "866b4d22",
      "metadata": {
        "id": "866b4d22"
      },
      "source": [
        "##### Today we are learning about Pandas. So ,Basically what is pandas - pandas(all lowercase) is  a popular python based data analysis toolkitwhich can be imported using import pandas as pd. it present a diverse range of utilities , ranging  from parsing multiple file format to converting an entire data table into a numpy matrix array this makes pandas a trusted ally in data science and machine learning."
      ]
    },
    {
      "cell_type": "code",
      "execution_count": null,
      "id": "ce2801eb",
      "metadata": {
        "id": "ce2801eb"
      },
      "outputs": [],
      "source": [
        "import pandas as pd\n",
        "import numpy as np\n"
      ]
    },
    {
      "cell_type": "code",
      "execution_count": null,
      "id": "3cb01c24",
      "metadata": {
        "id": "3cb01c24"
      },
      "outputs": [],
      "source": [
        "#lets create a blank series pandas"
      ]
    },
    {
      "cell_type": "code",
      "execution_count": null,
      "id": "75e96f2f",
      "metadata": {
        "id": "75e96f2f",
        "outputId": "18f60650-fe38-46df-e211-cc7a150594cd"
      },
      "outputs": [
        {
          "name": "stderr",
          "output_type": "stream",
          "text": [
            "C:\\Users\\safar\\AppData\\Local\\Temp\\ipykernel_13880\\1876242370.py:1: FutureWarning: The default dtype for empty Series will be 'object' instead of 'float64' in a future version. Specify a dtype explicitly to silence this warning.\n",
            "  ser=pd.Series()\n"
          ]
        }
      ],
      "source": [
        "ser=pd.Series()"
      ]
    },
    {
      "cell_type": "code",
      "execution_count": null,
      "id": "13f1ab16",
      "metadata": {
        "id": "13f1ab16",
        "outputId": "1fe375ce-6ffc-45c8-ce93-4d3eeec1586a"
      },
      "outputs": [
        {
          "data": {
            "text/plain": [
              "Series([], dtype: float64)"
            ]
          },
          "execution_count": 7,
          "metadata": {},
          "output_type": "execute_result"
        }
      ],
      "source": [
        "ser"
      ]
    },
    {
      "cell_type": "code",
      "execution_count": null,
      "id": "68a287d8",
      "metadata": {
        "id": "68a287d8",
        "outputId": "50dbcc72-f1e6-4fba-ad62-6d7f38163a9a"
      },
      "outputs": [
        {
          "name": "stdout",
          "output_type": "stream",
          "text": [
            "0     0\n",
            "1    10\n",
            "2    20\n",
            "3    30\n",
            "4    40\n",
            "5    50\n",
            "6    60\n",
            "7    70\n",
            "8    80\n",
            "9    90\n",
            "dtype: int64\n"
          ]
        }
      ],
      "source": [
        "ser=pd.Series([0,10,20,30,40,50,60,70,80,90]) # Here You Have to Notice Data Type= Float64 :Remember:\n",
        "print(ser)"
      ]
    },
    {
      "cell_type": "code",
      "execution_count": null,
      "id": "8de3a78f",
      "metadata": {
        "id": "8de3a78f"
      },
      "outputs": [],
      "source": [
        "#Notice DataType"
      ]
    },
    {
      "cell_type": "code",
      "execution_count": null,
      "id": "e0d14ab0",
      "metadata": {
        "id": "e0d14ab0",
        "outputId": "95b467df-6873-4729-ca10-9a2b2a514b4b"
      },
      "outputs": [
        {
          "name": "stdout",
          "output_type": "stream",
          "text": [
            "0      20\n",
            "1    15.7\n",
            "2      10\n",
            "dtype: object\n"
          ]
        }
      ],
      "source": [
        "ser=pd.Series([20,15.7,'10']) # Lets check Data Type Here-Object .Why Object ? Because in data list one string is present\n",
        "print(ser)"
      ]
    },
    {
      "cell_type": "code",
      "execution_count": null,
      "id": "85697faa",
      "metadata": {
        "id": "85697faa"
      },
      "outputs": [],
      "source": [
        "#Create Dictionary"
      ]
    },
    {
      "cell_type": "code",
      "execution_count": null,
      "id": "28f6e787",
      "metadata": {
        "id": "28f6e787"
      },
      "outputs": [],
      "source": [
        "dict={'A':[1,2,3],'B':[5,8,9],'C':[1,2,3]}"
      ]
    },
    {
      "cell_type": "code",
      "execution_count": null,
      "id": "3b020d53",
      "metadata": {
        "id": "3b020d53",
        "outputId": "abc7b4b4-8462-446a-dab6-c5649ec2a9f1"
      },
      "outputs": [
        {
          "name": "stdout",
          "output_type": "stream",
          "text": [
            "   A  B  C\n",
            "0  1  5  1\n",
            "1  2  8  2\n",
            "2  3  9  3\n"
          ]
        }
      ],
      "source": [
        "df=pd.DataFrame(dict)\n",
        "print(df)"
      ]
    },
    {
      "cell_type": "code",
      "execution_count": null,
      "id": "f6d02339",
      "metadata": {
        "id": "f6d02339"
      },
      "outputs": [],
      "source": [
        "#Add new Column and add values into in."
      ]
    },
    {
      "cell_type": "code",
      "execution_count": null,
      "id": "b80e2327",
      "metadata": {
        "id": "b80e2327"
      },
      "outputs": [],
      "source": [
        "df['State']=\"BR:CG:MP\".split(':')"
      ]
    },
    {
      "cell_type": "code",
      "execution_count": null,
      "id": "52533dd7",
      "metadata": {
        "id": "52533dd7",
        "outputId": "7142e397-35c2-4489-dced-9920183b6bcc"
      },
      "outputs": [
        {
          "name": "stdout",
          "output_type": "stream",
          "text": [
            "   A  B  C State\n",
            "0  1  5  1    BR\n",
            "1  2  8  2    CG\n",
            "2  3  9  3    MP\n"
          ]
        }
      ],
      "source": [
        "print(df)"
      ]
    },
    {
      "cell_type": "code",
      "execution_count": null,
      "id": "801eade4",
      "metadata": {
        "id": "801eade4"
      },
      "outputs": [],
      "source": [
        "#How to create Nan Values and its manipulation"
      ]
    },
    {
      "cell_type": "code",
      "execution_count": null,
      "id": "b10951bb",
      "metadata": {
        "id": "b10951bb",
        "outputId": "8e306f23-06ba-4bf9-934c-82b720dfc338"
      },
      "outputs": [
        {
          "data": {
            "text/plain": [
              "{'A': [1, 2, nan], 'B': [5, nan, nan], 'C': [1, 2, 3]}"
            ]
          },
          "execution_count": 21,
          "metadata": {},
          "output_type": "execute_result"
        }
      ],
      "source": [
        "dict={'A':[1,2,np.nan],'B':[5,np.nan,np.nan],'C':[1,2,3]}\n",
        "dict"
      ]
    },
    {
      "cell_type": "code",
      "execution_count": null,
      "id": "f36bd920",
      "metadata": {
        "id": "f36bd920",
        "outputId": "e3e8f9a0-cb7e-424d-be25-6e8bedf933e4"
      },
      "outputs": [
        {
          "name": "stdout",
          "output_type": "stream",
          "text": [
            "     A    B  C\n",
            "0  1.0  5.0  1\n",
            "1  2.0  NaN  2\n",
            "2  NaN  NaN  3\n"
          ]
        }
      ],
      "source": [
        "df=pd.DataFrame(dict)\n",
        "print(df)"
      ]
    },
    {
      "cell_type": "code",
      "execution_count": null,
      "id": "e462e55c",
      "metadata": {
        "id": "e462e55c"
      },
      "outputs": [],
      "source": []
    },
    {
      "cell_type": "code",
      "execution_count": null,
      "id": "74812f35",
      "metadata": {
        "id": "74812f35"
      },
      "outputs": [],
      "source": [
        "df['D']=[20,30,40]"
      ]
    },
    {
      "cell_type": "code",
      "execution_count": null,
      "id": "d57bb297",
      "metadata": {
        "id": "d57bb297",
        "outputId": "cf1ffa08-7251-44c2-dd3d-ff70836015a9"
      },
      "outputs": [
        {
          "name": "stdout",
          "output_type": "stream",
          "text": [
            "     A    B  C   D\n",
            "0  1.0  5.0  1  20\n",
            "1  2.0  NaN  2  30\n",
            "2  NaN  NaN  3  40\n"
          ]
        }
      ],
      "source": [
        "print(df)"
      ]
    },
    {
      "cell_type": "code",
      "execution_count": null,
      "id": "206341a4",
      "metadata": {
        "id": "206341a4"
      },
      "outputs": [],
      "source": [
        "#How to Drop Nan Value from Pandas"
      ]
    },
    {
      "cell_type": "code",
      "execution_count": null,
      "id": "5f8fab54",
      "metadata": {
        "id": "5f8fab54",
        "outputId": "9de3f0c6-69c0-4826-fbd0-f81aa0d208d2"
      },
      "outputs": [
        {
          "name": "stdout",
          "output_type": "stream",
          "text": [
            "\n",
            " Dropping any column with nan value\n",
            "-----------------------------------\n",
            "   C   D\n",
            "0  1  20\n",
            "1  2  30\n",
            "2  3  40\n"
          ]
        }
      ],
      "source": [
        "print(\"\\n Dropping any column with nan value\\n\",'-'*35,sep='')\n",
        "print(df.dropna(axis=1))\n"
      ]
    },
    {
      "cell_type": "code",
      "execution_count": null,
      "id": "bc5fd67b",
      "metadata": {
        "id": "bc5fd67b",
        "outputId": "da7b36c3-958c-494c-d97c-6848f6aa6686"
      },
      "outputs": [
        {
          "name": "stdout",
          "output_type": "stream",
          "text": [
            "     A    B  C   D\n",
            "0  1.0  5.0  1  20\n",
            "1  2.0  NaN  2  30\n",
            "2  NaN  NaN  3  40\n"
          ]
        }
      ],
      "source": [
        "print(df) # Here Your can check there is no changes in original pandas. beacuse we can not save the data.."
      ]
    },
    {
      "cell_type": "code",
      "execution_count": null,
      "id": "63ae8b6c",
      "metadata": {
        "id": "63ae8b6c",
        "outputId": "d2ff9635-fc8d-4398-b6c7-8a515a6d1e29"
      },
      "outputs": [
        {
          "name": "stdout",
          "output_type": "stream",
          "text": [
            "\n",
            " Dropping any rows with a Nan Value\n",
            " -----------------------------------\n",
            "     A    B  C   D\n",
            "0  1.0  5.0  1  20\n"
          ]
        }
      ],
      "source": [
        "print(\"\\n Dropping any rows with a Nan Value\\n\",'-'*35)\n",
        "print(df.dropna(axis=0))"
      ]
    },
    {
      "cell_type": "code",
      "execution_count": null,
      "id": "0c907d45",
      "metadata": {
        "id": "0c907d45",
        "outputId": "09b87a72-4e7b-4bc1-87c7-86871323b5b1"
      },
      "outputs": [
        {
          "name": "stdout",
          "output_type": "stream",
          "text": [
            "     A    B  C   D\n",
            "0  1.0  5.0  1  20\n",
            "1  2.0  NaN  2  30\n",
            "2  NaN  NaN  3  40\n"
          ]
        }
      ],
      "source": [
        "print(df) # Lets see here also ..its not change permanently ."
      ]
    },
    {
      "cell_type": "code",
      "execution_count": null,
      "id": "8b72a3e0",
      "metadata": {
        "id": "8b72a3e0"
      },
      "outputs": [],
      "source": [
        "# Lets Fill the position of nan with 50"
      ]
    },
    {
      "cell_type": "code",
      "execution_count": null,
      "id": "66231b07",
      "metadata": {
        "id": "66231b07",
        "outputId": "ea979458-d6ae-42d9-f320-d6bd5f11477d"
      },
      "outputs": [
        {
          "name": "stdout",
          "output_type": "stream",
          "text": [
            "\n",
            " Filling Value with a Default Value\n",
            "-----------------------------------\n",
            "      A     B  C   D\n",
            "0   1.0   5.0  1  20\n",
            "1   2.0  50.0  2  30\n",
            "2  50.0  50.0  3  40\n"
          ]
        }
      ],
      "source": [
        "print(\"\\n Filling Value with a Default Value\\n\",'-'*35,sep='')\n",
        "print(df.fillna(value=50))"
      ]
    },
    {
      "cell_type": "code",
      "execution_count": null,
      "id": "223cc9a7",
      "metadata": {
        "id": "223cc9a7",
        "outputId": "a006f0ce-f04e-4fd8-ff95-e82e5b0d60ef"
      },
      "outputs": [
        {
          "name": "stdout",
          "output_type": "stream",
          "text": [
            "     A    B  C   D\n",
            "0  1.0  5.0  1  20\n",
            "1  2.0  NaN  2  30\n",
            "2  NaN  NaN  3  40\n"
          ]
        }
      ],
      "source": [
        "print(df) #Lets Check Here also its  also not changes permanently"
      ]
    },
    {
      "cell_type": "code",
      "execution_count": null,
      "id": "59cf2508",
      "metadata": {
        "id": "59cf2508"
      },
      "outputs": [],
      "source": [
        "#DataFrame remains same will see how we can save the DataFrame later"
      ]
    },
    {
      "cell_type": "code",
      "execution_count": null,
      "id": "ef91fad3",
      "metadata": {
        "id": "ef91fad3",
        "outputId": "2f60a862-47a7-4bb4-d2fc-d96726be79cf"
      },
      "outputs": [
        {
          "name": "stdout",
          "output_type": "stream",
          "text": [
            "\n",
            " Filling Values with a computed values (mean of a column A here)\n",
            "------------------------------------------------------------\n",
            "     A    B  C   D\n",
            "0  1.0  5.0  1  20\n",
            "1  2.0  2.0  2  30\n",
            "2  2.0  2.0  3  40\n"
          ]
        }
      ],
      "source": [
        "print(\"\\n Filling Values with a computed values (mean of a column A here)\\n\",'-'*60,sep='')\n",
        "df.fillna(value=df['C'].mean(),inplace=True)#inplace=True means we save our data for future\n",
        "print(df)"
      ]
    },
    {
      "cell_type": "code",
      "execution_count": null,
      "id": "2cb180da",
      "metadata": {
        "id": "2cb180da",
        "outputId": "e46f2d2f-c1fe-4626-bbbb-25c82586895d"
      },
      "outputs": [
        {
          "name": "stdout",
          "output_type": "stream",
          "text": [
            "     A    B  C   D\n",
            "0  1.0  5.0  1  20\n",
            "1  2.0  2.0  2  30\n",
            "2  2.0  2.0  3  40\n"
          ]
        }
      ],
      "source": [
        "print(df) #Lets see our data is saved"
      ]
    },
    {
      "cell_type": "code",
      "execution_count": null,
      "id": "11ac792f",
      "metadata": {
        "id": "11ac792f"
      },
      "outputs": [],
      "source": [
        "#Creator DataFrame"
      ]
    },
    {
      "cell_type": "code",
      "execution_count": null,
      "id": "68456ae2",
      "metadata": {
        "id": "68456ae2"
      },
      "outputs": [],
      "source": [
        "data={'Company':['Goog','Goog','MSFT','MSFT','FB','FB'],\n",
        "      'Person':['Sam','Charlie','Amy','Vanessa','Carl','Sarah'],\n",
        "     'Sales':[200,120,340,124,243,350]}"
      ]
    },
    {
      "cell_type": "code",
      "execution_count": null,
      "id": "bd8c90a4",
      "metadata": {
        "id": "bd8c90a4",
        "outputId": "eafcaca5-238c-48bb-b5fb-0e4d15a52ae1"
      },
      "outputs": [
        {
          "name": "stdout",
          "output_type": "stream",
          "text": [
            "  Company   Person  Sales\n",
            "0    Goog      Sam    200\n",
            "1    Goog  Charlie    120\n",
            "2    MSFT      Amy    340\n",
            "3    MSFT  Vanessa    124\n",
            "4      FB     Carl    243\n",
            "5      FB    Sarah    350\n"
          ]
        }
      ],
      "source": [
        "df=pd.DataFrame(data)\n",
        "print(df)"
      ]
    },
    {
      "cell_type": "code",
      "execution_count": null,
      "id": "b050e006",
      "metadata": {
        "id": "b050e006"
      },
      "outputs": [],
      "source": [
        "#Lets find the mean company wise. firstly we have to group by column names using groupby"
      ]
    },
    {
      "cell_type": "code",
      "execution_count": null,
      "id": "b94adf30",
      "metadata": {
        "id": "b94adf30",
        "outputId": "5526f1dd-5492-4c70-d647-78ee59f70f92"
      },
      "outputs": [
        {
          "name": "stdout",
          "output_type": "stream",
          "text": [
            "\n",
            " Grouping by 'company' column and listing mean sales\n",
            "-------------------------------------------------------\n",
            "         Sales\n",
            "Company       \n",
            "FB       296.5\n",
            "Goog     160.0\n",
            "MSFT     232.0\n"
          ]
        },
        {
          "name": "stderr",
          "output_type": "stream",
          "text": [
            "C:\\Users\\safar\\AppData\\Local\\Temp\\ipykernel_13880\\2525787952.py:3: FutureWarning: The default value of numeric_only in DataFrameGroupBy.mean is deprecated. In a future version, numeric_only will default to False. Either specify numeric_only or select only columns which should be valid for the function.\n",
            "  print(bycomp.mean())\n"
          ]
        }
      ],
      "source": [
        "bycomp=df.groupby('Company')\n",
        "print(\"\\n Grouping by 'company' column and listing mean sales\\n\",'-'*55,sep='')\n",
        "print(bycomp.mean())"
      ]
    },
    {
      "cell_type": "code",
      "execution_count": null,
      "id": "e6fa045c",
      "metadata": {
        "id": "e6fa045c",
        "outputId": "5df878e8-05af-4261-9485-de8cba536f25"
      },
      "outputs": [
        {
          "name": "stdout",
          "output_type": "stream",
          "text": [
            "\n",
            " Grouping by 'Company' column and listing sum of sales\n",
            "-------------------------------------------------------\n",
            "         Sales\n",
            "Company       \n",
            "FB         593\n",
            "Goog       320\n",
            "MSFT       464\n"
          ]
        },
        {
          "name": "stderr",
          "output_type": "stream",
          "text": [
            "C:\\Users\\safar\\AppData\\Local\\Temp\\ipykernel_13880\\2892739167.py:3: FutureWarning: The default value of numeric_only in DataFrameGroupBy.sum is deprecated. In a future version, numeric_only will default to False. Either specify numeric_only or select only columns which should be valid for the function.\n",
            "  print(bycomp.sum())\n"
          ]
        }
      ],
      "source": [
        "bycomp=df.groupby('Company')\n",
        "print(\"\\n Grouping by 'Company' column and listing sum of sales\\n\",'-'*55,sep='')\n",
        "print(bycomp.sum())"
      ]
    },
    {
      "cell_type": "code",
      "execution_count": null,
      "id": "589eab4b",
      "metadata": {
        "id": "589eab4b"
      },
      "outputs": [],
      "source": [
        "#Concating DataFrame\n",
        "#There are Three types of concating  -1 = Concat\n",
        "#                                     2  = Merge\n",
        "#                                     3 =  Join"
      ]
    },
    {
      "cell_type": "code",
      "execution_count": null,
      "id": "027405d3",
      "metadata": {
        "id": "027405d3",
        "outputId": "094a1df7-b9bf-4ae9-fb6f-bcac281dd72b"
      },
      "outputs": [
        {
          "data": {
            "text/html": [
              "<div>\n",
              "<style scoped>\n",
              "    .dataframe tbody tr th:only-of-type {\n",
              "        vertical-align: middle;\n",
              "    }\n",
              "\n",
              "    .dataframe tbody tr th {\n",
              "        vertical-align: top;\n",
              "    }\n",
              "\n",
              "    .dataframe thead th {\n",
              "        text-align: right;\n",
              "    }\n",
              "</style>\n",
              "<table border=\"1\" class=\"dataframe\">\n",
              "  <thead>\n",
              "    <tr style=\"text-align: right;\">\n",
              "      <th></th>\n",
              "      <th>Mat</th>\n",
              "      <th>Eng</th>\n",
              "      <th>Sci</th>\n",
              "      <th>Chem</th>\n",
              "    </tr>\n",
              "  </thead>\n",
              "  <tbody>\n",
              "    <tr>\n",
              "      <th>Ravi</th>\n",
              "      <td>45</td>\n",
              "      <td>54</td>\n",
              "      <td>66</td>\n",
              "      <td>54</td>\n",
              "    </tr>\n",
              "    <tr>\n",
              "      <th>Shyam</th>\n",
              "      <td>68</td>\n",
              "      <td>87</td>\n",
              "      <td>77</td>\n",
              "      <td>79</td>\n",
              "    </tr>\n",
              "    <tr>\n",
              "      <th>Saurav</th>\n",
              "      <td>35</td>\n",
              "      <td>36</td>\n",
              "      <td>88</td>\n",
              "      <td>58</td>\n",
              "    </tr>\n",
              "    <tr>\n",
              "      <th>Abhi</th>\n",
              "      <td>65</td>\n",
              "      <td>52</td>\n",
              "      <td>70</td>\n",
              "      <td>76</td>\n",
              "    </tr>\n",
              "  </tbody>\n",
              "</table>\n",
              "</div>"
            ],
            "text/plain": [
              "        Mat  Eng  Sci  Chem\n",
              "Ravi     45   54   66    54\n",
              "Shyam    68   87   77    79\n",
              "Saurav   35   36   88    58\n",
              "Abhi     65   52   70    76"
            ]
          },
          "execution_count": 41,
          "metadata": {},
          "output_type": "execute_result"
        }
      ],
      "source": [
        "class_a=pd.DataFrame({'Mat':[45,68,35,65],\n",
        "                     'Eng':[54,87,36,52],\n",
        "                     'Sci':[66,77,88,70],\n",
        "                     'Chem':[54,79,58,76]},\n",
        "                    index=['Ravi','Shyam','Saurav','Abhi'])\n",
        "class_a"
      ]
    },
    {
      "cell_type": "code",
      "execution_count": null,
      "id": "4926e7a5",
      "metadata": {
        "id": "4926e7a5"
      },
      "outputs": [],
      "source": []
    },
    {
      "cell_type": "code",
      "execution_count": null,
      "id": "fcc1240d",
      "metadata": {
        "id": "fcc1240d",
        "outputId": "cf0e8cfe-4b9f-4799-b942-cbad8cc64fdb"
      },
      "outputs": [
        {
          "data": {
            "text/html": [
              "<div>\n",
              "<style scoped>\n",
              "    .dataframe tbody tr th:only-of-type {\n",
              "        vertical-align: middle;\n",
              "    }\n",
              "\n",
              "    .dataframe tbody tr th {\n",
              "        vertical-align: top;\n",
              "    }\n",
              "\n",
              "    .dataframe thead th {\n",
              "        text-align: right;\n",
              "    }\n",
              "</style>\n",
              "<table border=\"1\" class=\"dataframe\">\n",
              "  <thead>\n",
              "    <tr style=\"text-align: right;\">\n",
              "      <th></th>\n",
              "      <th>Mat</th>\n",
              "      <th>Eng</th>\n",
              "      <th>Sci</th>\n",
              "      <th>Chem</th>\n",
              "    </tr>\n",
              "  </thead>\n",
              "  <tbody>\n",
              "    <tr>\n",
              "      <th>Shaan</th>\n",
              "      <td>50</td>\n",
              "      <td>66</td>\n",
              "      <td>34</td>\n",
              "      <td>54</td>\n",
              "    </tr>\n",
              "    <tr>\n",
              "      <th>Mahi</th>\n",
              "      <td>87</td>\n",
              "      <td>50</td>\n",
              "      <td>66</td>\n",
              "      <td>87</td>\n",
              "    </tr>\n",
              "    <tr>\n",
              "      <th>Viru</th>\n",
              "      <td>69</td>\n",
              "      <td>87</td>\n",
              "      <td>69</td>\n",
              "      <td>34</td>\n",
              "    </tr>\n",
              "    <tr>\n",
              "      <th>Mona</th>\n",
              "      <td>71</td>\n",
              "      <td>69</td>\n",
              "      <td>71</td>\n",
              "      <td>66</td>\n",
              "    </tr>\n",
              "  </tbody>\n",
              "</table>\n",
              "</div>"
            ],
            "text/plain": [
              "       Mat  Eng  Sci  Chem\n",
              "Shaan   50   66   34    54\n",
              "Mahi    87   50   66    87\n",
              "Viru    69   87   69    34\n",
              "Mona    71   69   71    66"
            ]
          },
          "execution_count": 42,
          "metadata": {},
          "output_type": "execute_result"
        }
      ],
      "source": [
        "class_b=pd.DataFrame({'Mat':[50,87,69,71],\n",
        "                     'Eng':[66,50,87,69],\n",
        "                     'Sci':[34,66,69,71],\n",
        "                     'Chem':[54,87,34,66]},\n",
        "                    index=['Shaan','Mahi','Viru','Mona'])\n",
        "class_b"
      ]
    },
    {
      "cell_type": "code",
      "execution_count": null,
      "id": "c454180d",
      "metadata": {
        "id": "c454180d",
        "outputId": "3e373e12-286b-437a-acb4-0f77fd1d6628"
      },
      "outputs": [
        {
          "data": {
            "text/html": [
              "<div>\n",
              "<style scoped>\n",
              "    .dataframe tbody tr th:only-of-type {\n",
              "        vertical-align: middle;\n",
              "    }\n",
              "\n",
              "    .dataframe tbody tr th {\n",
              "        vertical-align: top;\n",
              "    }\n",
              "\n",
              "    .dataframe thead th {\n",
              "        text-align: right;\n",
              "    }\n",
              "</style>\n",
              "<table border=\"1\" class=\"dataframe\">\n",
              "  <thead>\n",
              "    <tr style=\"text-align: right;\">\n",
              "      <th></th>\n",
              "      <th>Mat</th>\n",
              "      <th>Eng</th>\n",
              "      <th>Sci</th>\n",
              "      <th>Chem</th>\n",
              "    </tr>\n",
              "  </thead>\n",
              "  <tbody>\n",
              "    <tr>\n",
              "      <th>Astha</th>\n",
              "      <td>66</td>\n",
              "      <td>56</td>\n",
              "      <td>77</td>\n",
              "      <td>34</td>\n",
              "    </tr>\n",
              "    <tr>\n",
              "      <th>Rohit</th>\n",
              "      <td>50</td>\n",
              "      <td>87</td>\n",
              "      <td>88</td>\n",
              "      <td>56</td>\n",
              "    </tr>\n",
              "    <tr>\n",
              "      <th>Rahul</th>\n",
              "      <td>87</td>\n",
              "      <td>89</td>\n",
              "      <td>70</td>\n",
              "      <td>56</td>\n",
              "    </tr>\n",
              "    <tr>\n",
              "      <th>Shital</th>\n",
              "      <td>56</td>\n",
              "      <td>71</td>\n",
              "      <td>52</td>\n",
              "      <td>87</td>\n",
              "    </tr>\n",
              "  </tbody>\n",
              "</table>\n",
              "</div>"
            ],
            "text/plain": [
              "        Mat  Eng  Sci  Chem\n",
              "Astha    66   56   77    34\n",
              "Rohit    50   87   88    56\n",
              "Rahul    87   89   70    56\n",
              "Shital   56   71   52    87"
            ]
          },
          "execution_count": 43,
          "metadata": {},
          "output_type": "execute_result"
        }
      ],
      "source": [
        "class_c=pd.DataFrame({'Mat':[66,50,87,56],\n",
        "                     'Eng':[56,87,89,71],\n",
        "                     'Sci':[77,88,70,52],\n",
        "                     'Chem':[34,56,56,87]},\n",
        "                    index=['Astha','Rohit','Rahul','Shital'])\n",
        "class_c"
      ]
    },
    {
      "cell_type": "code",
      "execution_count": null,
      "id": "147fcca2",
      "metadata": {
        "id": "147fcca2"
      },
      "outputs": [],
      "source": [
        "#Concatination"
      ]
    },
    {
      "cell_type": "code",
      "execution_count": null,
      "id": "30ae3696",
      "metadata": {
        "id": "30ae3696"
      },
      "outputs": [],
      "source": [
        "import pandas as pd"
      ]
    },
    {
      "cell_type": "code",
      "execution_count": null,
      "id": "b8fd3a93",
      "metadata": {
        "id": "b8fd3a93"
      },
      "outputs": [],
      "source": [
        "#Lets Concat row wise"
      ]
    },
    {
      "cell_type": "code",
      "execution_count": null,
      "id": "eb3ff48d",
      "metadata": {
        "id": "eb3ff48d",
        "outputId": "f0b93d42-78aa-4638-e526-2a36b49a8551"
      },
      "outputs": [
        {
          "name": "stdout",
          "output_type": "stream",
          "text": [
            "\n",
            " After concatenation along row \n",
            "------------------------------\n",
            "        Mat  Eng  Sci  Chem\n",
            "Ravi     45   54   66    54\n",
            "Shyam    68   87   77    79\n",
            "Saurav   35   36   88    58\n",
            "Abhi     65   52   70    76\n",
            "Shaan    50   66   34    54\n",
            "Mahi     87   50   66    87\n",
            "Viru     69   87   69    34\n",
            "Mona     71   69   71    66\n",
            "Astha    66   56   77    34\n",
            "Rohit    50   87   88    56\n",
            "Rahul    87   89   70    56\n",
            "Shital   56   71   52    87\n"
          ]
        }
      ],
      "source": [
        "all_student_marks=pd.concat([class_a,class_b,class_c],axis=0)\n",
        "print(\"\\n After concatenation along row \\n\",'-'*30,sep='')\n",
        "print(all_student_marks)"
      ]
    },
    {
      "cell_type": "code",
      "execution_count": null,
      "id": "5e576944",
      "metadata": {
        "id": "5e576944"
      },
      "outputs": [],
      "source": [
        "#Lets Concat with Column wise"
      ]
    },
    {
      "cell_type": "code",
      "execution_count": null,
      "id": "ed849c88",
      "metadata": {
        "id": "ed849c88",
        "outputId": "b7359e40-f18f-4303-ffec-74344f58aadb"
      },
      "outputs": [
        {
          "name": "stdout",
          "output_type": "stream",
          "text": [
            "\n",
            " Concat with column wise \n",
            "------------------------------------------------------------\n",
            "         Mat   Eng   Sci  Chem   Mat   Eng   Sci  Chem   Mat   Eng   Sci  Chem\n",
            "Ravi    45.0  54.0  66.0  54.0   NaN   NaN   NaN   NaN   NaN   NaN   NaN   NaN\n",
            "Shyam   68.0  87.0  77.0  79.0   NaN   NaN   NaN   NaN   NaN   NaN   NaN   NaN\n",
            "Saurav  35.0  36.0  88.0  58.0   NaN   NaN   NaN   NaN   NaN   NaN   NaN   NaN\n",
            "Abhi    65.0  52.0  70.0  76.0   NaN   NaN   NaN   NaN   NaN   NaN   NaN   NaN\n",
            "Shaan    NaN   NaN   NaN   NaN  50.0  66.0  34.0  54.0   NaN   NaN   NaN   NaN\n",
            "Mahi     NaN   NaN   NaN   NaN  87.0  50.0  66.0  87.0   NaN   NaN   NaN   NaN\n",
            "Viru     NaN   NaN   NaN   NaN  69.0  87.0  69.0  34.0   NaN   NaN   NaN   NaN\n",
            "Mona     NaN   NaN   NaN   NaN  71.0  69.0  71.0  66.0   NaN   NaN   NaN   NaN\n",
            "Astha    NaN   NaN   NaN   NaN   NaN   NaN   NaN   NaN  66.0  56.0  77.0  34.0\n",
            "Rohit    NaN   NaN   NaN   NaN   NaN   NaN   NaN   NaN  50.0  87.0  88.0  56.0\n",
            "Rahul    NaN   NaN   NaN   NaN   NaN   NaN   NaN   NaN  87.0  89.0  70.0  56.0\n",
            "Shital   NaN   NaN   NaN   NaN   NaN   NaN   NaN   NaN  56.0  71.0  52.0  87.0\n"
          ]
        },
        {
          "name": "stderr",
          "output_type": "stream",
          "text": [
            "C:\\Users\\safar\\AppData\\Local\\Temp\\ipykernel_13880\\2155776424.py:1: UserWarning: Pandas doesn't allow columns to be created via a new attribute name - see https://pandas.pydata.org/pandas-docs/stable/indexing.html#attribute-access\n",
            "  df.cat2=pd.concat([class_a,class_b,class_c],axis=1)\n"
          ]
        }
      ],
      "source": [
        "df.cat2=pd.concat([class_a,class_b,class_c],axis=1)\n",
        "print(\"\\n Concat with column wise \\n\",'-'*60,sep='')\n",
        "print(df.cat2)"
      ]
    },
    {
      "cell_type": "code",
      "execution_count": null,
      "id": "d61c5fa5",
      "metadata": {
        "id": "d61c5fa5"
      },
      "outputs": [],
      "source": [
        "#Lets Fill all Nan Zero"
      ]
    },
    {
      "cell_type": "code",
      "execution_count": null,
      "id": "14eac284",
      "metadata": {
        "id": "14eac284"
      },
      "outputs": [],
      "source": [
        "df.cat2.fillna(value=0,inplace=True)"
      ]
    },
    {
      "cell_type": "code",
      "execution_count": null,
      "id": "d5588ef9",
      "metadata": {
        "id": "d5588ef9",
        "outputId": "1e620c24-d947-4ac7-a6cc-0f5230a88c07"
      },
      "outputs": [
        {
          "name": "stdout",
          "output_type": "stream",
          "text": [
            "         Mat   Eng   Sci  Chem   Mat   Eng   Sci  Chem   Mat   Eng   Sci  Chem\n",
            "Ravi    45.0  54.0  66.0  54.0   0.0   0.0   0.0   0.0   0.0   0.0   0.0   0.0\n",
            "Shyam   68.0  87.0  77.0  79.0   0.0   0.0   0.0   0.0   0.0   0.0   0.0   0.0\n",
            "Saurav  35.0  36.0  88.0  58.0   0.0   0.0   0.0   0.0   0.0   0.0   0.0   0.0\n",
            "Abhi    65.0  52.0  70.0  76.0   0.0   0.0   0.0   0.0   0.0   0.0   0.0   0.0\n",
            "Shaan    0.0   0.0   0.0   0.0  50.0  66.0  34.0  54.0   0.0   0.0   0.0   0.0\n",
            "Mahi     0.0   0.0   0.0   0.0  87.0  50.0  66.0  87.0   0.0   0.0   0.0   0.0\n",
            "Viru     0.0   0.0   0.0   0.0  69.0  87.0  69.0  34.0   0.0   0.0   0.0   0.0\n",
            "Mona     0.0   0.0   0.0   0.0  71.0  69.0  71.0  66.0   0.0   0.0   0.0   0.0\n",
            "Astha    0.0   0.0   0.0   0.0   0.0   0.0   0.0   0.0  66.0  56.0  77.0  34.0\n",
            "Rohit    0.0   0.0   0.0   0.0   0.0   0.0   0.0   0.0  50.0  87.0  88.0  56.0\n",
            "Rahul    0.0   0.0   0.0   0.0   0.0   0.0   0.0   0.0  87.0  89.0  70.0  56.0\n",
            "Shital   0.0   0.0   0.0   0.0   0.0   0.0   0.0   0.0  56.0  71.0  52.0  87.0\n"
          ]
        }
      ],
      "source": [
        "print(df.cat2)"
      ]
    },
    {
      "cell_type": "code",
      "execution_count": null,
      "id": "cbceccd4",
      "metadata": {
        "id": "cbceccd4"
      },
      "outputs": [],
      "source": [
        "#Merge"
      ]
    },
    {
      "cell_type": "code",
      "execution_count": null,
      "id": "154c5913",
      "metadata": {
        "id": "154c5913"
      },
      "outputs": [],
      "source": [
        "player_id_name=pd.DataFrame({'ID':[25,30,35,40,45,50,55],\n",
        "                            'Name':['Ronaldo','Messi','Pele','Maradona','Harry','Pogba','Chhetri']})"
      ]
    },
    {
      "cell_type": "code",
      "execution_count": null,
      "id": "3477c5db",
      "metadata": {
        "id": "3477c5db",
        "outputId": "3a887ce4-a8f5-4010-e1d6-e488fae3a0bf"
      },
      "outputs": [
        {
          "name": "stdout",
          "output_type": "stream",
          "text": [
            "Player Id and Name\n",
            "============================\n"
          ]
        },
        {
          "data": {
            "text/html": [
              "<div>\n",
              "<style scoped>\n",
              "    .dataframe tbody tr th:only-of-type {\n",
              "        vertical-align: middle;\n",
              "    }\n",
              "\n",
              "    .dataframe tbody tr th {\n",
              "        vertical-align: top;\n",
              "    }\n",
              "\n",
              "    .dataframe thead th {\n",
              "        text-align: right;\n",
              "    }\n",
              "</style>\n",
              "<table border=\"1\" class=\"dataframe\">\n",
              "  <thead>\n",
              "    <tr style=\"text-align: right;\">\n",
              "      <th></th>\n",
              "      <th>ID</th>\n",
              "      <th>Name</th>\n",
              "    </tr>\n",
              "  </thead>\n",
              "  <tbody>\n",
              "    <tr>\n",
              "      <th>0</th>\n",
              "      <td>25</td>\n",
              "      <td>Ronaldo</td>\n",
              "    </tr>\n",
              "    <tr>\n",
              "      <th>1</th>\n",
              "      <td>30</td>\n",
              "      <td>Messi</td>\n",
              "    </tr>\n",
              "    <tr>\n",
              "      <th>2</th>\n",
              "      <td>35</td>\n",
              "      <td>Pele</td>\n",
              "    </tr>\n",
              "    <tr>\n",
              "      <th>3</th>\n",
              "      <td>40</td>\n",
              "      <td>Maradona</td>\n",
              "    </tr>\n",
              "    <tr>\n",
              "      <th>4</th>\n",
              "      <td>45</td>\n",
              "      <td>Harry</td>\n",
              "    </tr>\n",
              "    <tr>\n",
              "      <th>5</th>\n",
              "      <td>50</td>\n",
              "      <td>Pogba</td>\n",
              "    </tr>\n",
              "    <tr>\n",
              "      <th>6</th>\n",
              "      <td>55</td>\n",
              "      <td>Chhetri</td>\n",
              "    </tr>\n",
              "  </tbody>\n",
              "</table>\n",
              "</div>"
            ],
            "text/plain": [
              "   ID      Name\n",
              "0  25   Ronaldo\n",
              "1  30     Messi\n",
              "2  35      Pele\n",
              "3  40  Maradona\n",
              "4  45     Harry\n",
              "5  50     Pogba\n",
              "6  55   Chhetri"
            ]
          },
          "execution_count": 50,
          "metadata": {},
          "output_type": "execute_result"
        }
      ],
      "source": [
        "print(\"Player Id and Name\\n============================\")\n",
        "player_id_name"
      ]
    },
    {
      "cell_type": "code",
      "execution_count": null,
      "id": "e773936e",
      "metadata": {
        "id": "e773936e"
      },
      "outputs": [],
      "source": [
        "player_detail=pd.DataFrame({'ID':[25,30,45,50,55],\n",
        "                            'Age':[36,34,20,28,37],\n",
        "                            'Country':['Porugal','Argentina','England','France','India']})"
      ]
    },
    {
      "cell_type": "code",
      "execution_count": null,
      "id": "b51bcf52",
      "metadata": {
        "id": "b51bcf52",
        "outputId": "f3e4b303-404e-42ce-90fe-8db71600a7b0"
      },
      "outputs": [
        {
          "name": "stdout",
          "output_type": "stream",
          "text": [
            "Player Details \n",
            "====================\n"
          ]
        },
        {
          "data": {
            "text/html": [
              "<div>\n",
              "<style scoped>\n",
              "    .dataframe tbody tr th:only-of-type {\n",
              "        vertical-align: middle;\n",
              "    }\n",
              "\n",
              "    .dataframe tbody tr th {\n",
              "        vertical-align: top;\n",
              "    }\n",
              "\n",
              "    .dataframe thead th {\n",
              "        text-align: right;\n",
              "    }\n",
              "</style>\n",
              "<table border=\"1\" class=\"dataframe\">\n",
              "  <thead>\n",
              "    <tr style=\"text-align: right;\">\n",
              "      <th></th>\n",
              "      <th>ID</th>\n",
              "      <th>Age</th>\n",
              "      <th>Country</th>\n",
              "    </tr>\n",
              "  </thead>\n",
              "  <tbody>\n",
              "    <tr>\n",
              "      <th>0</th>\n",
              "      <td>25</td>\n",
              "      <td>36</td>\n",
              "      <td>Porugal</td>\n",
              "    </tr>\n",
              "    <tr>\n",
              "      <th>1</th>\n",
              "      <td>30</td>\n",
              "      <td>34</td>\n",
              "      <td>Argentina</td>\n",
              "    </tr>\n",
              "    <tr>\n",
              "      <th>2</th>\n",
              "      <td>45</td>\n",
              "      <td>20</td>\n",
              "      <td>England</td>\n",
              "    </tr>\n",
              "    <tr>\n",
              "      <th>3</th>\n",
              "      <td>50</td>\n",
              "      <td>28</td>\n",
              "      <td>France</td>\n",
              "    </tr>\n",
              "    <tr>\n",
              "      <th>4</th>\n",
              "      <td>55</td>\n",
              "      <td>37</td>\n",
              "      <td>India</td>\n",
              "    </tr>\n",
              "  </tbody>\n",
              "</table>\n",
              "</div>"
            ],
            "text/plain": [
              "   ID  Age    Country\n",
              "0  25   36    Porugal\n",
              "1  30   34  Argentina\n",
              "2  45   20    England\n",
              "3  50   28     France\n",
              "4  55   37      India"
            ]
          },
          "execution_count": 53,
          "metadata": {},
          "output_type": "execute_result"
        }
      ],
      "source": [
        "print(\"Player Details \\n====================\")\n",
        "player_detail"
      ]
    },
    {
      "cell_type": "code",
      "execution_count": null,
      "id": "42352d4c",
      "metadata": {
        "id": "42352d4c",
        "outputId": "d9ed59b6-6aa5-4c65-e172-7685e46a92be"
      },
      "outputs": [
        {
          "name": "stdout",
          "output_type": "stream",
          "text": [
            "======DataSet will Merged based on the ID's==========\n"
          ]
        },
        {
          "data": {
            "text/html": [
              "<div>\n",
              "<style scoped>\n",
              "    .dataframe tbody tr th:only-of-type {\n",
              "        vertical-align: middle;\n",
              "    }\n",
              "\n",
              "    .dataframe tbody tr th {\n",
              "        vertical-align: top;\n",
              "    }\n",
              "\n",
              "    .dataframe thead th {\n",
              "        text-align: right;\n",
              "    }\n",
              "</style>\n",
              "<table border=\"1\" class=\"dataframe\">\n",
              "  <thead>\n",
              "    <tr style=\"text-align: right;\">\n",
              "      <th></th>\n",
              "      <th>ID</th>\n",
              "      <th>Name</th>\n",
              "      <th>Age</th>\n",
              "      <th>Country</th>\n",
              "    </tr>\n",
              "  </thead>\n",
              "  <tbody>\n",
              "    <tr>\n",
              "      <th>0</th>\n",
              "      <td>25</td>\n",
              "      <td>Ronaldo</td>\n",
              "      <td>36</td>\n",
              "      <td>Porugal</td>\n",
              "    </tr>\n",
              "    <tr>\n",
              "      <th>1</th>\n",
              "      <td>30</td>\n",
              "      <td>Messi</td>\n",
              "      <td>34</td>\n",
              "      <td>Argentina</td>\n",
              "    </tr>\n",
              "    <tr>\n",
              "      <th>2</th>\n",
              "      <td>45</td>\n",
              "      <td>Harry</td>\n",
              "      <td>20</td>\n",
              "      <td>England</td>\n",
              "    </tr>\n",
              "    <tr>\n",
              "      <th>3</th>\n",
              "      <td>50</td>\n",
              "      <td>Pogba</td>\n",
              "      <td>28</td>\n",
              "      <td>France</td>\n",
              "    </tr>\n",
              "    <tr>\n",
              "      <th>4</th>\n",
              "      <td>55</td>\n",
              "      <td>Chhetri</td>\n",
              "      <td>37</td>\n",
              "      <td>India</td>\n",
              "    </tr>\n",
              "  </tbody>\n",
              "</table>\n",
              "</div>"
            ],
            "text/plain": [
              "   ID     Name  Age    Country\n",
              "0  25  Ronaldo   36    Porugal\n",
              "1  30    Messi   34  Argentina\n",
              "2  45    Harry   20    England\n",
              "3  50    Pogba   28     France\n",
              "4  55  Chhetri   37      India"
            ]
          },
          "execution_count": 54,
          "metadata": {},
          "output_type": "execute_result"
        }
      ],
      "source": [
        "print(\"======DataSet will Merged based on the ID's==========\")\n",
        "pd.merge(player_id_name,player_detail,on='ID')"
      ]
    },
    {
      "cell_type": "code",
      "execution_count": null,
      "id": "e34274d8",
      "metadata": {
        "id": "e34274d8"
      },
      "outputs": [],
      "source": [
        "#jOin"
      ]
    },
    {
      "cell_type": "code",
      "execution_count": null,
      "id": "2cc2f09e",
      "metadata": {
        "id": "2cc2f09e"
      },
      "outputs": [],
      "source": [
        "#Join Operator"
      ]
    },
    {
      "cell_type": "code",
      "execution_count": null,
      "id": "25e96105",
      "metadata": {
        "id": "25e96105"
      },
      "outputs": [],
      "source": [
        "left=pd.DataFrame({'A':['A0','A1','A2'],\n",
        "                  'B':['B0','B1','B2']},\n",
        "                 index=['K0','K1','K2'])"
      ]
    },
    {
      "cell_type": "code",
      "execution_count": null,
      "id": "f606210d",
      "metadata": {
        "id": "f606210d"
      },
      "outputs": [],
      "source": [
        "right=pd.DataFrame({'C':['C0','C2','C3'],\n",
        "                   'D':['D0','D2','D3']},\n",
        "                  index=['K0','K2','K3'])"
      ]
    },
    {
      "cell_type": "code",
      "execution_count": null,
      "id": "e835c1a6",
      "metadata": {
        "id": "e835c1a6",
        "outputId": "0d2fbe67-1b63-471c-f932-8cd33bc7d7c7"
      },
      "outputs": [
        {
          "data": {
            "text/html": [
              "<div>\n",
              "<style scoped>\n",
              "    .dataframe tbody tr th:only-of-type {\n",
              "        vertical-align: middle;\n",
              "    }\n",
              "\n",
              "    .dataframe tbody tr th {\n",
              "        vertical-align: top;\n",
              "    }\n",
              "\n",
              "    .dataframe thead th {\n",
              "        text-align: right;\n",
              "    }\n",
              "</style>\n",
              "<table border=\"1\" class=\"dataframe\">\n",
              "  <thead>\n",
              "    <tr style=\"text-align: right;\">\n",
              "      <th></th>\n",
              "      <th>A</th>\n",
              "      <th>B</th>\n",
              "    </tr>\n",
              "  </thead>\n",
              "  <tbody>\n",
              "    <tr>\n",
              "      <th>K0</th>\n",
              "      <td>A0</td>\n",
              "      <td>B0</td>\n",
              "    </tr>\n",
              "    <tr>\n",
              "      <th>K1</th>\n",
              "      <td>A1</td>\n",
              "      <td>B1</td>\n",
              "    </tr>\n",
              "    <tr>\n",
              "      <th>K2</th>\n",
              "      <td>A2</td>\n",
              "      <td>B2</td>\n",
              "    </tr>\n",
              "  </tbody>\n",
              "</table>\n",
              "</div>"
            ],
            "text/plain": [
              "     A   B\n",
              "K0  A0  B0\n",
              "K1  A1  B1\n",
              "K2  A2  B2"
            ]
          },
          "execution_count": 57,
          "metadata": {},
          "output_type": "execute_result"
        }
      ],
      "source": [
        "left"
      ]
    },
    {
      "cell_type": "code",
      "execution_count": null,
      "id": "4a625125",
      "metadata": {
        "id": "4a625125",
        "outputId": "2ddf8ef3-810d-45ce-e508-0648978bf5df"
      },
      "outputs": [
        {
          "data": {
            "text/html": [
              "<div>\n",
              "<style scoped>\n",
              "    .dataframe tbody tr th:only-of-type {\n",
              "        vertical-align: middle;\n",
              "    }\n",
              "\n",
              "    .dataframe tbody tr th {\n",
              "        vertical-align: top;\n",
              "    }\n",
              "\n",
              "    .dataframe thead th {\n",
              "        text-align: right;\n",
              "    }\n",
              "</style>\n",
              "<table border=\"1\" class=\"dataframe\">\n",
              "  <thead>\n",
              "    <tr style=\"text-align: right;\">\n",
              "      <th></th>\n",
              "      <th>C</th>\n",
              "      <th>D</th>\n",
              "    </tr>\n",
              "  </thead>\n",
              "  <tbody>\n",
              "    <tr>\n",
              "      <th>K0</th>\n",
              "      <td>C0</td>\n",
              "      <td>D0</td>\n",
              "    </tr>\n",
              "    <tr>\n",
              "      <th>K2</th>\n",
              "      <td>C2</td>\n",
              "      <td>D2</td>\n",
              "    </tr>\n",
              "    <tr>\n",
              "      <th>K3</th>\n",
              "      <td>C3</td>\n",
              "      <td>D3</td>\n",
              "    </tr>\n",
              "  </tbody>\n",
              "</table>\n",
              "</div>"
            ],
            "text/plain": [
              "     C   D\n",
              "K0  C0  D0\n",
              "K2  C2  D2\n",
              "K3  C3  D3"
            ]
          },
          "execution_count": 58,
          "metadata": {},
          "output_type": "execute_result"
        }
      ],
      "source": [
        "right"
      ]
    },
    {
      "cell_type": "code",
      "execution_count": null,
      "id": "0b2e3fb1",
      "metadata": {
        "id": "0b2e3fb1",
        "outputId": "4a1012a4-a9b2-443f-80b3-43cf94aa75ce"
      },
      "outputs": [
        {
          "data": {
            "text/html": [
              "<div>\n",
              "<style scoped>\n",
              "    .dataframe tbody tr th:only-of-type {\n",
              "        vertical-align: middle;\n",
              "    }\n",
              "\n",
              "    .dataframe tbody tr th {\n",
              "        vertical-align: top;\n",
              "    }\n",
              "\n",
              "    .dataframe thead th {\n",
              "        text-align: right;\n",
              "    }\n",
              "</style>\n",
              "<table border=\"1\" class=\"dataframe\">\n",
              "  <thead>\n",
              "    <tr style=\"text-align: right;\">\n",
              "      <th></th>\n",
              "      <th>A</th>\n",
              "      <th>B</th>\n",
              "      <th>C</th>\n",
              "      <th>D</th>\n",
              "    </tr>\n",
              "  </thead>\n",
              "  <tbody>\n",
              "    <tr>\n",
              "      <th>K0</th>\n",
              "      <td>A0</td>\n",
              "      <td>B0</td>\n",
              "      <td>C0</td>\n",
              "      <td>D0</td>\n",
              "    </tr>\n",
              "    <tr>\n",
              "      <th>K1</th>\n",
              "      <td>A1</td>\n",
              "      <td>B1</td>\n",
              "      <td>NaN</td>\n",
              "      <td>NaN</td>\n",
              "    </tr>\n",
              "    <tr>\n",
              "      <th>K2</th>\n",
              "      <td>A2</td>\n",
              "      <td>B2</td>\n",
              "      <td>C2</td>\n",
              "      <td>D2</td>\n",
              "    </tr>\n",
              "  </tbody>\n",
              "</table>\n",
              "</div>"
            ],
            "text/plain": [
              "     A   B    C    D\n",
              "K0  A0  B0   C0   D0\n",
              "K1  A1  B1  NaN  NaN\n",
              "K2  A2  B2   C2   D2"
            ]
          },
          "execution_count": 59,
          "metadata": {},
          "output_type": "execute_result"
        }
      ],
      "source": [
        "left.join(right)"
      ]
    },
    {
      "cell_type": "code",
      "execution_count": null,
      "id": "32495187",
      "metadata": {
        "id": "32495187",
        "outputId": "4218e5a5-c1bc-4478-c0e7-1e2b55b06b7f"
      },
      "outputs": [
        {
          "data": {
            "text/html": [
              "<div>\n",
              "<style scoped>\n",
              "    .dataframe tbody tr th:only-of-type {\n",
              "        vertical-align: middle;\n",
              "    }\n",
              "\n",
              "    .dataframe tbody tr th {\n",
              "        vertical-align: top;\n",
              "    }\n",
              "\n",
              "    .dataframe thead th {\n",
              "        text-align: right;\n",
              "    }\n",
              "</style>\n",
              "<table border=\"1\" class=\"dataframe\">\n",
              "  <thead>\n",
              "    <tr style=\"text-align: right;\">\n",
              "      <th></th>\n",
              "      <th>A</th>\n",
              "      <th>B</th>\n",
              "      <th>C</th>\n",
              "      <th>D</th>\n",
              "    </tr>\n",
              "  </thead>\n",
              "  <tbody>\n",
              "    <tr>\n",
              "      <th>K0</th>\n",
              "      <td>A0</td>\n",
              "      <td>B0</td>\n",
              "      <td>C0</td>\n",
              "      <td>D0</td>\n",
              "    </tr>\n",
              "    <tr>\n",
              "      <th>K1</th>\n",
              "      <td>A1</td>\n",
              "      <td>B1</td>\n",
              "      <td>NaN</td>\n",
              "      <td>NaN</td>\n",
              "    </tr>\n",
              "    <tr>\n",
              "      <th>K2</th>\n",
              "      <td>A2</td>\n",
              "      <td>B2</td>\n",
              "      <td>C2</td>\n",
              "      <td>D2</td>\n",
              "    </tr>\n",
              "    <tr>\n",
              "      <th>K3</th>\n",
              "      <td>NaN</td>\n",
              "      <td>NaN</td>\n",
              "      <td>C3</td>\n",
              "      <td>D3</td>\n",
              "    </tr>\n",
              "  </tbody>\n",
              "</table>\n",
              "</div>"
            ],
            "text/plain": [
              "      A    B    C    D\n",
              "K0   A0   B0   C0   D0\n",
              "K1   A1   B1  NaN  NaN\n",
              "K2   A2   B2   C2   D2\n",
              "K3  NaN  NaN   C3   D3"
            ]
          },
          "execution_count": 60,
          "metadata": {},
          "output_type": "execute_result"
        }
      ],
      "source": [
        "left.join(right,how='outer')"
      ]
    },
    {
      "cell_type": "code",
      "execution_count": null,
      "id": "72508cee",
      "metadata": {
        "id": "72508cee"
      },
      "outputs": [],
      "source": [
        "#Thats all Left Portion we learn Next Week\n"
      ]
    }
  ],
  "metadata": {
    "kernelspec": {
      "display_name": "Python 3 (ipykernel)",
      "language": "python",
      "name": "python3"
    },
    "language_info": {
      "codemirror_mode": {
        "name": "ipython",
        "version": 3
      },
      "file_extension": ".py",
      "mimetype": "text/x-python",
      "name": "python",
      "nbconvert_exporter": "python",
      "pygments_lexer": "ipython3",
      "version": "3.10.9"
    },
    "colab": {
      "provenance": []
    }
  },
  "nbformat": 4,
  "nbformat_minor": 5
}