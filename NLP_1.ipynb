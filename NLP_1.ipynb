{
  "cells": [
    {
      "cell_type": "code",
      "execution_count": 4,
      "id": "271b16f0-43f5-477f-8740-80d7c0206fb5",
      "metadata": {
        "colab": {
          "base_uri": "https://localhost:8080/"
        },
        "id": "271b16f0-43f5-477f-8740-80d7c0206fb5",
        "outputId": "7b9da5b0-38f2-45b1-9588-45bc435bcee2"
      },
      "outputs": [
        {
          "output_type": "stream",
          "name": "stdout",
          "text": [
            "SUDHARSAN\n"
          ]
        }
      ],
      "source": [
        "#NLP INTRO\n",
        "a = \"SUDHARSAN\"\n",
        "print(a)"
      ]
    },
    {
      "cell_type": "code",
      "execution_count": 6,
      "id": "eed07723-92de-4507-bdad-bf19eb7337ac",
      "metadata": {
        "colab": {
          "base_uri": "https://localhost:8080/"
        },
        "id": "eed07723-92de-4507-bdad-bf19eb7337ac",
        "outputId": "9885fd81-a46a-4712-f254-a9f2b152a872"
      },
      "outputs": [
        {
          "output_type": "stream",
          "name": "stdout",
          "text": [
            "T\n"
          ]
        }
      ],
      "source": [
        "a = \"DATAFRAME\"\n",
        "print(a[2])"
      ]
    },
    {
      "cell_type": "code",
      "execution_count": 7,
      "id": "7d65aa4a-0335-49e9-93d4-a1f4d800d0ba",
      "metadata": {
        "colab": {
          "base_uri": "https://localhost:8080/"
        },
        "id": "7d65aa4a-0335-49e9-93d4-a1f4d800d0ba",
        "outputId": "79d02460-11df-4921-931b-344e80238e39"
      },
      "outputs": [
        {
          "output_type": "stream",
          "name": "stdout",
          "text": [
            "ata \n",
            "--------------------\n",
            "a\n",
            "--------------------------------------------------\n",
            "aa\n"
          ]
        }
      ],
      "source": [
        "a = \"Data FraME\"\n",
        "print(a[1:5])\n",
        "print(\"-\" * 20)\n",
        "print(a[-3:-2])\n",
        "print(\"-\" * 50)\n",
        "print(a[1:4:2])"
      ]
    },
    {
      "cell_type": "code",
      "execution_count": 8,
      "id": "8ce9fdce-4324-4465-8fb2-0f45f5999d78",
      "metadata": {
        "colab": {
          "base_uri": "https://localhost:8080/"
        },
        "id": "8ce9fdce-4324-4465-8fb2-0f45f5999d78",
        "outputId": "7efe0eef-d892-4205-f5d3-c0148a31361e"
      },
      "outputs": [
        {
          "output_type": "stream",
          "name": "stdout",
          "text": [
            "['Data', 'FraME']\n"
          ]
        }
      ],
      "source": [
        "print(a.split())"
      ]
    },
    {
      "cell_type": "code",
      "execution_count": 9,
      "id": "5e5f81c6-6fd4-4209-871b-faf0e4868ebf",
      "metadata": {
        "colab": {
          "base_uri": "https://localhost:8080/"
        },
        "id": "5e5f81c6-6fd4-4209-871b-faf0e4868ebf",
        "outputId": "14712304-c674-4e33-f15d-4551e3e36c57"
      },
      "outputs": [
        {
          "output_type": "stream",
          "name": "stdout",
          "text": [
            "data frame\n",
            "DATA FRAME\n",
            "low FraME\n"
          ]
        }
      ],
      "source": [
        "print(a.lower())\n",
        "print(a.upper())\n",
        "print(a.replace(\"Data\" , \"low\"))"
      ]
    },
    {
      "cell_type": "code",
      "execution_count": 10,
      "id": "22bceb1d-c39f-4bf5-8df7-df7153bae2e2",
      "metadata": {
        "colab": {
          "base_uri": "https://localhost:8080/"
        },
        "id": "22bceb1d-c39f-4bf5-8df7-df7153bae2e2",
        "outputId": "ebebfefc-509a-412e-d9e4-6b859f79934c"
      },
      "outputs": [
        {
          "output_type": "stream",
          "name": "stdout",
          "text": [
            "data frame train\n"
          ]
        }
      ],
      "source": [
        "a = \"data frame\"\n",
        "b = \"train\"\n",
        "print(a + \" \" + b)"
      ]
    },
    {
      "cell_type": "code",
      "execution_count": 11,
      "id": "35628380-da76-47e9-9d10-7d21ae2b736d",
      "metadata": {
        "id": "35628380-da76-47e9-9d10-7d21ae2b736d"
      },
      "outputs": [],
      "source": [
        "file = open('dataset1.txt' , \"w+\")"
      ]
    },
    {
      "cell_type": "code",
      "execution_count": 12,
      "id": "ed00cb01-e7ea-47d8-99d9-0341fd63c2d6",
      "metadata": {
        "id": "ed00cb01-e7ea-47d8-99d9-0341fd63c2d6"
      },
      "outputs": [],
      "source": [
        "file1 = open('dataset2.txt' , \"w+\")"
      ]
    },
    {
      "cell_type": "code",
      "execution_count": 13,
      "id": "f28d9f67-a08d-4f94-a329-4b4954c8d819",
      "metadata": {
        "id": "f28d9f67-a08d-4f94-a329-4b4954c8d819"
      },
      "outputs": [],
      "source": [
        "for i in range(6):\n",
        "  file1.write(\"Line number is %d\\r\\n\" % (i + 1))"
      ]
    },
    {
      "cell_type": "code",
      "execution_count": 16,
      "id": "71c510ba-2de4-43ac-96cc-70faa78af9c7",
      "metadata": {
        "id": "71c510ba-2de4-43ac-96cc-70faa78af9c7"
      },
      "outputs": [],
      "source": [
        "file1.close()"
      ]
    },
    {
      "cell_type": "code",
      "execution_count": 14,
      "id": "2b33aa2c-2323-422a-ac70-e4510e4fbe8a",
      "metadata": {
        "id": "2b33aa2c-2323-422a-ac70-e4510e4fbe8a"
      },
      "outputs": [],
      "source": [
        "file1 = open('dataset2.txt' , \"a+\")"
      ]
    },
    {
      "cell_type": "code",
      "execution_count": 15,
      "id": "62dd2b19-4ef4-496a-ae42-aa020ef0778e",
      "metadata": {
        "id": "62dd2b19-4ef4-496a-ae42-aa020ef0778e"
      },
      "outputs": [],
      "source": [
        "file1.close()"
      ]
    },
    {
      "cell_type": "code",
      "execution_count": 20,
      "id": "f45c6a05-0bc3-4576-8ebd-14dd8d989578",
      "metadata": {
        "id": "f45c6a05-0bc3-4576-8ebd-14dd8d989578"
      },
      "outputs": [],
      "source": [
        "file1 = open('dataset2.txt' , \"r\")"
      ]
    },
    {
      "cell_type": "code",
      "execution_count": 18,
      "id": "4bd10d37-b213-4f72-9c53-d40ceca9abef",
      "metadata": {
        "colab": {
          "base_uri": "https://localhost:8080/"
        },
        "id": "4bd10d37-b213-4f72-9c53-d40ceca9abef",
        "outputId": "3ccae651-44c0-429f-a71b-0c15bdadc8e5"
      },
      "outputs": [
        {
          "output_type": "stream",
          "name": "stdout",
          "text": [
            "Line number is 1\n",
            "Line number is 2\n",
            "Line number is 3\n",
            "Line number is 4\n",
            "Line number is 5\n",
            "Line number is 6\n",
            "\n"
          ]
        }
      ],
      "source": [
        "if file1.mode == 'r':\n",
        "  contents = file1.read()\n",
        "  print(contents)"
      ]
    },
    {
      "cell_type": "markdown",
      "source": [
        "#Text Preprocessing"
      ],
      "metadata": {
        "id": "2wEYZyeC61mx"
      },
      "id": "2wEYZyeC61mx"
    },
    {
      "cell_type": "code",
      "execution_count": 21,
      "id": "d2c997a6-5b70-4859-a0a7-109ce64e93a2",
      "metadata": {
        "colab": {
          "base_uri": "https://localhost:8080/",
          "height": 36
        },
        "id": "d2c997a6-5b70-4859-a0a7-109ce64e93a2",
        "outputId": "b73f7362-a2b8-4813-c8e6-632782319fc1"
      },
      "outputs": [
        {
          "output_type": "execute_result",
          "data": {
            "text/plain": [
              "'a computer science portal for geeks.'"
            ],
            "application/vnd.google.colaboratory.intrinsic+json": {
              "type": "string"
            }
          },
          "metadata": {},
          "execution_count": 21
        }
      ],
      "source": [
        "import nltk\n",
        "import string\n",
        "import re\n",
        "\n",
        "\n",
        "# Text lowercase\n",
        "def lowercase_text(text):\n",
        "  return text.lower()\n",
        "\n",
        "input_str = \"A Computer Science portal for geeks.\"\n",
        "lowercase_text(input_str)"
      ]
    },
    {
      "cell_type": "code",
      "execution_count": 22,
      "id": "2e2e2a1d-5ae8-4bf0-b809-65e9a7168a71",
      "metadata": {
        "colab": {
          "base_uri": "https://localhost:8080/",
          "height": 36
        },
        "id": "2e2e2a1d-5ae8-4bf0-b809-65e9a7168a71",
        "outputId": "63c684b0-6b15-4d39-f51a-0869cdd28037"
      },
      "outputs": [
        {
          "output_type": "execute_result",
          "data": {
            "text/plain": [
              "'Katlyn has  oranges. Her friend, Ronald, gave her  more oranges.'"
            ],
            "application/vnd.google.colaboratory.intrinsic+json": {
              "type": "string"
            }
          },
          "metadata": {},
          "execution_count": 22
        }
      ],
      "source": [
        "# Remove numbers\n",
        "def remove_numbers(text):\n",
        "  result = re.sub(r'\\d+' , '' , text)\n",
        "  return result\n",
        "\n",
        "input_str = \"Katlyn has 8 oranges. Her friend, Ronald, gave her 10 more oranges.\"\n",
        "remove_numbers(input_str)"
      ]
    },
    {
      "cell_type": "code",
      "execution_count": 23,
      "id": "4f58a32f-f847-4e83-900e-a4a83edb383c",
      "metadata": {
        "colab": {
          "base_uri": "https://localhost:8080/"
        },
        "id": "4f58a32f-f847-4e83-900e-a4a83edb383c",
        "outputId": "afe9cd3f-e203-4efa-fca8-f3cf479c66ee"
      },
      "outputs": [
        {
          "output_type": "stream",
          "name": "stdout",
          "text": [
            "Requirement already satisfied: inflect in /usr/local/lib/python3.10/dist-packages (7.4.0)\n",
            "Requirement already satisfied: more-itertools>=8.5.0 in /usr/local/lib/python3.10/dist-packages (from inflect) (10.5.0)\n",
            "Requirement already satisfied: typeguard>=4.0.1 in /usr/local/lib/python3.10/dist-packages (from inflect) (4.3.0)\n",
            "Requirement already satisfied: typing-extensions>=4.10.0 in /usr/local/lib/python3.10/dist-packages (from typeguard>=4.0.1->inflect) (4.12.2)\n"
          ]
        }
      ],
      "source": [
        "!pip install inflect"
      ]
    },
    {
      "cell_type": "code",
      "execution_count": 24,
      "id": "ca5cf4c4-0891-4f19-8679-8b4c1b578553",
      "metadata": {
        "colab": {
          "base_uri": "https://localhost:8080/",
          "height": 36
        },
        "id": "ca5cf4c4-0891-4f19-8679-8b4c1b578553",
        "outputId": "2e9aa1fc-a5c8-4b77-e1c0-5dae8ac5565b"
      },
      "outputs": [
        {
          "output_type": "execute_result",
          "data": {
            "text/plain": [
              "'There are ten apple in the bag'"
            ],
            "application/vnd.google.colaboratory.intrinsic+json": {
              "type": "string"
            }
          },
          "metadata": {},
          "execution_count": 24
        }
      ],
      "source": [
        "import inflect\n",
        "q = inflect.engine()\n",
        "\n",
        "# convert number into text\n",
        "def convert_number(text):\n",
        "  temp_string = text.split()\n",
        "  new_str = []\n",
        "\n",
        "  for word in temp_string:\n",
        "    if word.isdigit():\n",
        "      temp = q.number_to_words(word)\n",
        "      new_str.append(temp)\n",
        "\n",
        "    else:\n",
        "      new_str.append(word)\n",
        "\n",
        "  temp_str = ' '.join(new_str)\n",
        "  return temp_str\n",
        "\n",
        "input_str = \"There are 10 apple in the bag\"\n",
        "convert_number(input_str)"
      ]
    },
    {
      "cell_type": "code",
      "execution_count": 25,
      "id": "cfc8533b-4015-4700-a2bc-e6339a44f122",
      "metadata": {
        "colab": {
          "base_uri": "https://localhost:8080/",
          "height": 36
        },
        "id": "cfc8533b-4015-4700-a2bc-e6339a44f122",
        "outputId": "ae5910a9-a0de-482a-ecb4-32735a4a8755"
      },
      "outputs": [
        {
          "output_type": "execute_result",
          "data": {
            "text/plain": [
              "'Hey Are you excited '"
            ],
            "application/vnd.google.colaboratory.intrinsic+json": {
              "type": "string"
            }
          },
          "metadata": {},
          "execution_count": 25
        }
      ],
      "source": [
        "# Remove Punctuation\n",
        "def remove_punctuation(text):\n",
        "  translator = str.maketrans('' , '' , string.punctuation)\n",
        "  return text.translate(translator)\n",
        "\n",
        "input_str = \"Hey, Are you excited? :)\"\n",
        "remove_punctuation(input_str)"
      ]
    },
    {
      "cell_type": "code",
      "execution_count": 26,
      "id": "68659943-a572-4d00-9022-bd13a9d9f89e",
      "metadata": {
        "colab": {
          "base_uri": "https://localhost:8080/",
          "height": 36
        },
        "id": "68659943-a572-4d00-9022-bd13a9d9f89e",
        "outputId": "5904343c-3e80-4664-90b3-5dc9af9ad3ac"
      },
      "outputs": [
        {
          "output_type": "execute_result",
          "data": {
            "text/plain": [
              "'!\"#$%&\\'()*+,-./:;<=>?@[\\\\]^_`{|}~'"
            ],
            "application/vnd.google.colaboratory.intrinsic+json": {
              "type": "string"
            }
          },
          "metadata": {},
          "execution_count": 26
        }
      ],
      "source": [
        "string.punctuation"
      ]
    },
    {
      "cell_type": "code",
      "execution_count": 27,
      "id": "c9d96264-f40e-44d0-8dd2-441279005edd",
      "metadata": {
        "colab": {
          "base_uri": "https://localhost:8080/"
        },
        "id": "c9d96264-f40e-44d0-8dd2-441279005edd",
        "outputId": "d0a9c246-25ad-41c6-c981-ce3a5f1f9991"
      },
      "outputs": [
        {
          "output_type": "stream",
          "name": "stderr",
          "text": [
            "[nltk_data] Downloading package stopwords to /root/nltk_data...\n",
            "[nltk_data]   Unzipping corpora/stopwords.zip.\n"
          ]
        }
      ],
      "source": [
        "# Remove default stopwords\n",
        "from nltk.corpus import stopwords\n",
        "from nltk.tokenize import word_tokenize\n",
        "nltk.download('stopwords')\n",
        "from nltk.corpus import stopwords"
      ]
    },
    {
      "cell_type": "code",
      "execution_count": 28,
      "id": "abdbb12a-c63a-41c0-9dea-75f6befca21d",
      "metadata": {
        "colab": {
          "base_uri": "https://localhost:8080/"
        },
        "id": "abdbb12a-c63a-41c0-9dea-75f6befca21d",
        "outputId": "fea1b56e-3589-4771-85eb-8552c5c078db"
      },
      "outputs": [
        {
          "output_type": "stream",
          "name": "stderr",
          "text": [
            "[nltk_data] Downloading package punkt to /root/nltk_data...\n",
            "[nltk_data]   Unzipping tokenizers/punkt.zip.\n",
            "[nltk_data] Downloading package stopwords to /root/nltk_data...\n",
            "[nltk_data]   Package stopwords is already up-to-date!\n"
          ]
        }
      ],
      "source": [
        "import nltk\n",
        "nltk.download('punkt')\n",
        "nltk.download('stopwords')\n",
        "from nltk.corpus import stopwords"
      ]
    },
    {
      "cell_type": "code",
      "execution_count": 30,
      "id": "365f8298-74b0-4645-b9d9-520409f60daa",
      "metadata": {
        "colab": {
          "base_uri": "https://localhost:8080/"
        },
        "id": "365f8298-74b0-4645-b9d9-520409f60daa",
        "outputId": "c159c2a5-b2bf-4ea4-d5b1-ede9c7a85748"
      },
      "outputs": [
        {
          "output_type": "execute_result",
          "data": {
            "text/plain": [
              "['A', 'Computer', 'Science', 'portal', 'geeks', '.']"
            ]
          },
          "metadata": {},
          "execution_count": 30
        }
      ],
      "source": [
        "# remove stopwords function\n",
        "def remove_stopwords(text):\n",
        "  stop_words = set(stopwords.words(\"english\"))\n",
        "  word_tokens = word_tokenize(text)\n",
        "  filtered_text = [word for word in word_tokens if word not in stop_words]\n",
        "  return filtered_text\n",
        "\n",
        "ex_text = \"A Computer Science portal for geeks.\"\n",
        "remove_stopwords(ex_text)"
      ]
    },
    {
      "cell_type": "code",
      "execution_count": 31,
      "id": "0c59e940-3a31-4116-b41f-257e0bea73b4",
      "metadata": {
        "colab": {
          "base_uri": "https://localhost:8080/"
        },
        "id": "0c59e940-3a31-4116-b41f-257e0bea73b4",
        "outputId": "8da2584f-a704-4521-9cf0-4d01491384ad"
      },
      "outputs": [
        {
          "output_type": "execute_result",
          "data": {
            "text/plain": [
              "['ai',\n",
              " 'can',\n",
              " 'be',\n",
              " 'use',\n",
              " 'to',\n",
              " 'perform',\n",
              " 'a',\n",
              " 'varieti',\n",
              " 'of',\n",
              " 'task',\n",
              " ',',\n",
              " 'from',\n",
              " 'simpl',\n",
              " ',',\n",
              " 'repetit',\n",
              " 'task',\n",
              " 'to',\n",
              " 'more',\n",
              " 'complex',\n",
              " 'cognit',\n",
              " 'task',\n",
              " '.']"
            ]
          },
          "metadata": {},
          "execution_count": 31
        }
      ],
      "source": [
        "from nltk.stem.porter import PorterStemmer\n",
        "from nltk.tokenize import word_tokenize\n",
        "stemmer = PorterStemmer()\n",
        "\n",
        "# stem words in the list of tokenized words\n",
        "def stem_words(text):\n",
        "  word_tokens = word_tokenize(text)\n",
        "  stems = [stemmer.stem(word) for word in word_tokens]\n",
        "  return stems\n",
        "\n",
        "text = 'AI can be used to perform a variety of tasks, from simple, repetitive tasks to more complex cognitive tasks.'\n",
        "stem_words(text)"
      ]
    },
    {
      "cell_type": "code",
      "execution_count": 32,
      "id": "4d74d121-1c3c-41d0-b082-1d1277050f28",
      "metadata": {
        "colab": {
          "base_uri": "https://localhost:8080/"
        },
        "id": "4d74d121-1c3c-41d0-b082-1d1277050f28",
        "outputId": "13495868-0f5f-4a97-e1ce-f717122f4dcf"
      },
      "outputs": [
        {
          "output_type": "stream",
          "name": "stderr",
          "text": [
            "[nltk_data] Downloading package wordnet to /root/nltk_data...\n"
          ]
        },
        {
          "output_type": "execute_result",
          "data": {
            "text/plain": [
              "True"
            ]
          },
          "metadata": {},
          "execution_count": 32
        }
      ],
      "source": [
        "import nltk\n",
        "nltk.download('wordnet')"
      ]
    },
    {
      "cell_type": "code",
      "execution_count": 33,
      "id": "5fd679cc-dd14-4d69-8f28-de9f04fe6e5d",
      "metadata": {
        "colab": {
          "base_uri": "https://localhost:8080/"
        },
        "id": "5fd679cc-dd14-4d69-8f28-de9f04fe6e5d",
        "outputId": "1dc29165-199b-4caf-c4e9-7735f07c25aa"
      },
      "outputs": [
        {
          "output_type": "execute_result",
          "data": {
            "text/plain": [
              "['AI',\n",
              " 'can',\n",
              " 'be',\n",
              " 'use',\n",
              " 'to',\n",
              " 'perform',\n",
              " 'a',\n",
              " 'variety',\n",
              " 'of',\n",
              " 'task',\n",
              " ',',\n",
              " 'from',\n",
              " 'simple',\n",
              " ',',\n",
              " 'repetitive',\n",
              " 'task',\n",
              " 'to',\n",
              " 'more',\n",
              " 'complex',\n",
              " 'cognitive',\n",
              " 'task',\n",
              " '.']"
            ]
          },
          "metadata": {},
          "execution_count": 33
        }
      ],
      "source": [
        "from nltk.stem import wordnet\n",
        "from nltk.tokenize import word_tokenize\n",
        "lemma = wordnet.WordNetLemmatizer()\n",
        "\n",
        "# lemmatize string\n",
        "def lemmatize_word(text):\n",
        "  word_tokens = word_tokenize(text)\n",
        "  lemmas = [lemma.lemmatize(word , pos = 'v') for word in word_tokens]\n",
        "  return lemmas\n",
        "\n",
        "text = 'AI can be used to perform a variety of tasks, from simple, repetitive tasks to more complex cognitive tasks.'\n",
        "lemmatize_word(text)"
      ]
    },
    {
      "cell_type": "code",
      "execution_count": 34,
      "id": "1e9bd250-3ae5-4e9e-a12c-c42d78495661",
      "metadata": {
        "colab": {
          "base_uri": "https://localhost:8080/"
        },
        "id": "1e9bd250-3ae5-4e9e-a12c-c42d78495661",
        "outputId": "0e988091-0adb-4984-a5c9-95415adb99e6"
      },
      "outputs": [
        {
          "output_type": "stream",
          "name": "stderr",
          "text": [
            "[nltk_data] Downloading package averaged_perceptron_tagger to\n",
            "[nltk_data]     /root/nltk_data...\n",
            "[nltk_data]   Unzipping taggers/averaged_perceptron_tagger.zip.\n"
          ]
        },
        {
          "output_type": "execute_result",
          "data": {
            "text/plain": [
              "[('I', 'PRP'), ('am', 'VBP'), ('reading', 'VBG'), ('a', 'DT'), ('book', 'NN')]"
            ]
          },
          "metadata": {},
          "execution_count": 34
        }
      ],
      "source": [
        "from nltk.tokenize import word_tokenize\n",
        "from nltk import pos_tag\n",
        "nltk.download('averaged_perceptron_tagger')\n",
        "\n",
        "def pos_tagging(text):\n",
        "  word_tokens = word_tokenize(text)\n",
        "  return pos_tag(word_tokens)\n",
        "\n",
        "pos_tagging('I am reading a book')"
      ]
    },
    {
      "cell_type": "code",
      "execution_count": 36,
      "id": "e2dc8579-3386-471c-8d35-0cb55a4c76d6",
      "metadata": {
        "colab": {
          "base_uri": "https://localhost:8080/"
        },
        "id": "e2dc8579-3386-471c-8d35-0cb55a4c76d6",
        "outputId": "983e0e8d-d2a6-4173-9f94-2b96716bce92"
      },
      "outputs": [
        {
          "output_type": "stream",
          "name": "stdout",
          "text": [
            "PRP: pronoun, personal\n",
            "    hers herself him himself hisself it itself me myself one oneself ours\n",
            "    ourselves ownself self she thee theirs them themselves they thou thy us\n"
          ]
        },
        {
          "output_type": "stream",
          "name": "stderr",
          "text": [
            "[nltk_data] Downloading package tagsets to /root/nltk_data...\n",
            "[nltk_data]   Package tagsets is already up-to-date!\n"
          ]
        }
      ],
      "source": [
        "nltk.download('tagsets')\n",
        "nltk.help.upenn_tagset('PRP')"
      ]
    },
    {
      "cell_type": "code",
      "execution_count": 37,
      "id": "84eec77e-3aa5-430a-9baf-1d7437e1c68e",
      "metadata": {
        "id": "84eec77e-3aa5-430a-9baf-1d7437e1c68e"
      },
      "outputs": [],
      "source": [
        "import nltk\n",
        "from nltk.tokenize import word_tokenize\n",
        "from nltk import pos_tag\n"
      ]
    },
    {
      "cell_type": "code",
      "execution_count": 39,
      "id": "16f0d574-58f2-473c-a611-cf17a79bc880",
      "metadata": {
        "colab": {
          "base_uri": "https://localhost:8080/"
        },
        "id": "16f0d574-58f2-473c-a611-cf17a79bc880",
        "outputId": "e2609a7d-c027-411e-a4f1-5dc9a9be1472"
      },
      "outputs": [
        {
          "output_type": "stream",
          "name": "stdout",
          "text": [
            "(S\n",
            "  AI/NNP\n",
            "  can/MD\n",
            "  be/VB\n",
            "  used/VBN\n",
            "  to/TO\n",
            "  perform/VB\n",
            "  a/DT\n",
            "  variety/NN\n",
            "  of/IN\n",
            "  tasks/NNS\n",
            "  ,/,\n",
            "  from/IN\n",
            "  simple/JJ\n",
            "  ,/,\n",
            "  repetitive/JJ\n",
            "  tasks/NNS\n",
            "  to/TO\n",
            "  more/RBR\n",
            "  complex/JJ\n",
            "  cognitive/JJ\n",
            "  tasks/NNS\n",
            "  ./.)\n"
          ]
        },
        {
          "output_type": "stream",
          "name": "stderr",
          "text": [
            "[nltk_data] Downloading package maxent_ne_chunker to\n",
            "[nltk_data]     /root/nltk_data...\n",
            "[nltk_data]   Package maxent_ne_chunker is already up-to-date!\n",
            "[nltk_data] Downloading package words to /root/nltk_data...\n",
            "[nltk_data]   Package words is already up-to-date!\n"
          ]
        }
      ],
      "source": [
        "from nltk.tokenize import word_tokenize\n",
        "from nltk import pos_tag, ne_chunk\n",
        "nltk.download('maxent_ne_chunker')\n",
        "nltk.download('words')\n",
        "\n",
        "def ner(text):\n",
        "  word_tokens = word_tokenize(text)\n",
        "  word_pos = pos_tag(word_tokens)\n",
        "  print(ne_chunk(word_pos))\n",
        "\n",
        "text = 'AI can be used to perform a variety of tasks, from simple, repetitive tasks to more complex cognitive tasks.'\n",
        "ner(text)"
      ]
    },
    {
      "cell_type": "markdown",
      "source": [
        "#RegEx Syntax"
      ],
      "metadata": {
        "id": "1fHW8ScC9Xa2"
      },
      "id": "1fHW8ScC9Xa2"
    },
    {
      "cell_type": "code",
      "execution_count": 40,
      "id": "cc4e2632-3b77-4cc6-ac01-afae8cccf533",
      "metadata": {
        "colab": {
          "base_uri": "https://localhost:8080/"
        },
        "id": "cc4e2632-3b77-4cc6-ac01-afae8cccf533",
        "outputId": "657c7bc4-d0ad-4be0-a086-17d3e551fe9e"
      },
      "outputs": [
        {
          "output_type": "stream",
          "name": "stdout",
          "text": [
            "['AI']\n"
          ]
        }
      ],
      "source": [
        "import re\n",
        "sent = \"AI can be used to perform a variety of tasks, from simple, repetitive tasks to more complex cognitive tasks.\"\n",
        "r2 = re.findall(r\"^\\w+\", sent)\n",
        "print(r2)"
      ]
    },
    {
      "cell_type": "code",
      "execution_count": 41,
      "id": "b6827213-a57c-40f4-91c7-612e77fe9379",
      "metadata": {
        "colab": {
          "base_uri": "https://localhost:8080/"
        },
        "id": "b6827213-a57c-40f4-91c7-612e77fe9379",
        "outputId": "005d11db-d8a9-4531-eae9-a2e3e844ffa8"
      },
      "outputs": [
        {
          "output_type": "stream",
          "name": "stdout",
          "text": [
            "['Data is,  the new fuel']\n"
          ]
        }
      ],
      "source": [
        "import re\n",
        "print(re.split(r\"^\\s\", \"Data is,  the new fuel\"))"
      ]
    },
    {
      "cell_type": "markdown",
      "source": [
        "#Using re.match()"
      ],
      "metadata": {
        "id": "J7-ZlD5M9dTm"
      },
      "id": "J7-ZlD5M9dTm"
    },
    {
      "cell_type": "code",
      "execution_count": 43,
      "id": "07ab7cc9-3f29-4a86-aafa-a88ab74e609a",
      "metadata": {
        "colab": {
          "base_uri": "https://localhost:8080/"
        },
        "id": "07ab7cc9-3f29-4a86-aafa-a88ab74e609a",
        "outputId": "60334d86-3b6a-4aa3-fe9f-4fa4d0d9dd3e"
      },
      "outputs": [
        {
          "output_type": "stream",
          "name": "stdout",
          "text": [
            "created\n",
            "deleted\n",
            "altered\n"
          ]
        }
      ],
      "source": [
        "# Using re.match()\n",
        "lists =  ['created', 'deleted', 'altered']\n",
        "\n",
        "for i in lists:\n",
        "  q = re.match(r\"^\\w+\", i)\n",
        "  if q:\n",
        "    print(q.group())"
      ]
    },
    {
      "cell_type": "markdown",
      "source": [
        "#Frequency distribution"
      ],
      "metadata": {
        "id": "VOzraE4J-wGx"
      },
      "id": "VOzraE4J-wGx"
    },
    {
      "cell_type": "code",
      "execution_count": 45,
      "id": "11c2dda9-597a-449f-b7b3-8e866e2d9c98",
      "metadata": {
        "colab": {
          "base_uri": "https://localhost:8080/"
        },
        "id": "11c2dda9-597a-449f-b7b3-8e866e2d9c98",
        "outputId": "ee749de6-0eed-41c1-b591-87887d85cb8b"
      },
      "outputs": [
        {
          "output_type": "stream",
          "name": "stdout",
          "text": [
            "\n",
            "\n",
            "\n",
            "\n",
            "<FreqDist with 10 samples and 11 outcomes>\n"
          ]
        }
      ],
      "source": [
        "import nltk\n",
        "print(\"\\n\\n\\n\")\n",
        "text1 = \"AI is based on machine learning and deep learning technologies.\"\n",
        "freq = nltk.FreqDist(word_tokenize(text1))\n",
        "print(freq)"
      ]
    },
    {
      "cell_type": "code",
      "execution_count": 49,
      "id": "54f36303-a024-46c2-9e4d-ff7b66ec89a6",
      "metadata": {
        "colab": {
          "base_uri": "https://localhost:8080/"
        },
        "id": "54f36303-a024-46c2-9e4d-ff7b66ec89a6",
        "outputId": "d04b2563-fafc-455f-d39e-2c12f8174dff"
      },
      "outputs": [
        {
          "output_type": "stream",
          "name": "stdout",
          "text": [
            "1\n"
          ]
        }
      ],
      "source": [
        "print(freq[\"AI\"])"
      ]
    },
    {
      "cell_type": "code",
      "execution_count": 50,
      "id": "fb4c32ca-c26d-493e-8b41-21b8cac72d90",
      "metadata": {
        "colab": {
          "base_uri": "https://localhost:8080/"
        },
        "id": "fb4c32ca-c26d-493e-8b41-21b8cac72d90",
        "outputId": "8f909b1c-2926-4d50-c76c-e2c35fa1f014"
      },
      "outputs": [
        {
          "output_type": "stream",
          "name": "stdout",
          "text": [
            "<class 'dict_keys'>\n"
          ]
        }
      ],
      "source": [
        "words = freq.keys()\n",
        "print(type(words))"
      ]
    }
  ],
  "metadata": {
    "kernelspec": {
      "display_name": "Python 3 (ipykernel)",
      "language": "python",
      "name": "python3"
    },
    "language_info": {
      "codemirror_mode": {
        "name": "ipython",
        "version": 3
      },
      "file_extension": ".py",
      "mimetype": "text/x-python",
      "name": "python",
      "nbconvert_exporter": "python",
      "pygments_lexer": "ipython3",
      "version": "3.11.7"
    },
    "colab": {
      "provenance": []
    }
  },
  "nbformat": 4,
  "nbformat_minor": 5
}